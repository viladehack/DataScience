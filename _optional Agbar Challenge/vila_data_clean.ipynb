{
  "cells": [
    {
      "cell_type": "markdown",
      "metadata": {
        "colab_type": "text",
        "id": "view-in-github"
      },
      "source": [
        "<a href=\"https://colab.research.google.com/github/Javier-Alfonso-DS/HCK1_VILADEHACK_2022/blob/main/vila_data_clean.ipynb\" target=\"_parent\"><img src=\"https://colab.research.google.com/assets/colab-badge.svg\" alt=\"Open In Colab\"/></a>"
      ]
    },
    {
      "cell_type": "code",
      "execution_count": null,
      "metadata": {
        "id": "TfuO2Col8iyu"
      },
      "outputs": [],
      "source": []
    },
    {
      "cell_type": "markdown",
      "metadata": {
        "id": "EBl7CRzT8dmW"
      },
      "source": [
        "# Hackathon ViladeHack 2022\n",
        "\n",
        "![](2022-03-26-09-50-38.png)\n",
        "![](2022-03-26-09-50-09.png)\n",
        "\n",
        "- Viladecans daily consumption \n",
        "\n",
        "\t- DATA - Consumption registration date\n",
        "\t- TIPUS_CLIENT - Type of customer (commercial or industrial, in both cases it is non-domestic customers)\n",
        "\t- CONSUM_DIA - Accumulated consumption during the day in m3\n",
        "\t- NUM_CLIENT_ANONIMITZAT - Anonymised customer number\n",
        "----  \n",
        "- Monthly consumption Viladecans\n",
        "\n",
        "\t- DATA - Invoice date of consumption\n",
        "\t- NUM_IAE - IAE epigraph of economic activity of the business\n",
        "\t- TEXT_IAE - Descriptive text of the IAE epigraph\n",
        "\t- CONSUM_MES - Accumulated consumption during the two-month billing period (in m3)\n",
        "\t- NUM_CLIENT_ANONIMITZAT - Anonymised customer number\n",
        "\n",
        "The monthly consumption dataset provides information on the type of economic activity of the customers.  \n",
        "**The consumption information is not relevant in this dataset.**"
      ]
    },
    {
      "cell_type": "markdown",
      "metadata": {
        "id": "EVKsHdOA8dmi"
      },
      "source": [
        "## Libraries"
      ]
    },
    {
      "cell_type": "code",
      "execution_count": 1,
      "metadata": {
        "id": "Z9wyjoXU8dmj"
      },
      "outputs": [],
      "source": [
        "# Import libraries\n",
        "import pandas as pd\n",
        "import numpy as np\n",
        "from sklearn.linear_model import LinearRegression\n",
        "from sklearn.model_selection import cross_val_score\n",
        "import seaborn as sns\n",
        "# Import personal library\n",
        "#import Pers_lib as Pers"
      ]
    },
    {
      "cell_type": "code",
      "execution_count": 2,
      "metadata": {
        "id": "MGzSFh7p8dmn"
      },
      "outputs": [],
      "source": [
        "# settings to display all columns (default is 20, now is None (all))\n",
        "pd.set_option(\"display.max_columns\", None)"
      ]
    },
    {
      "cell_type": "code",
      "execution_count": 3,
      "metadata": {
        "colab": {
          "base_uri": "https://localhost:8080/",
          "height": 206
        },
        "id": "jB_eM8VQQ21q",
        "outputId": "139fdd68-ddd3-49a4-ca43-dff74caf9624"
      },
      "outputs": [
        {
          "data": {
            "text/html": [
              "<div>\n",
              "<style scoped>\n",
              "    .dataframe tbody tr th:only-of-type {\n",
              "        vertical-align: middle;\n",
              "    }\n",
              "\n",
              "    .dataframe tbody tr th {\n",
              "        vertical-align: top;\n",
              "    }\n",
              "\n",
              "    .dataframe thead th {\n",
              "        text-align: right;\n",
              "    }\n",
              "</style>\n",
              "<table border=\"1\" class=\"dataframe\">\n",
              "  <thead>\n",
              "    <tr style=\"text-align: right;\">\n",
              "      <th></th>\n",
              "      <th>DATA</th>\n",
              "      <th>NUM_IAE</th>\n",
              "      <th>TEXT_IAE</th>\n",
              "      <th>CONSUM_MES</th>\n",
              "      <th>NUM_CLIENT_ANONIMITZAT</th>\n",
              "    </tr>\n",
              "  </thead>\n",
              "  <tbody>\n",
              "    <tr>\n",
              "      <th>0</th>\n",
              "      <td>2018-04-01</td>\n",
              "      <td>I9429</td>\n",
              "      <td>ALTRES SERVEIS SANITARIS SENSE INTERNAT</td>\n",
              "      <td>14</td>\n",
              "      <td>ODS25IEHI</td>\n",
              "    </tr>\n",
              "    <tr>\n",
              "      <th>1</th>\n",
              "      <td>2019-10-01</td>\n",
              "      <td>I9429</td>\n",
              "      <td>ALTRES SERVEIS SANITARIS SENSE INTERNAT</td>\n",
              "      <td>29</td>\n",
              "      <td>ODS25IEHI</td>\n",
              "    </tr>\n",
              "    <tr>\n",
              "      <th>2</th>\n",
              "      <td>2019-12-01</td>\n",
              "      <td>I9429</td>\n",
              "      <td>ALTRES SERVEIS SANITARIS SENSE INTERNAT</td>\n",
              "      <td>26</td>\n",
              "      <td>ODS25IEHI</td>\n",
              "    </tr>\n",
              "    <tr>\n",
              "      <th>3</th>\n",
              "      <td>2021-02-01</td>\n",
              "      <td>I9429</td>\n",
              "      <td>ALTRES SERVEIS SANITARIS SENSE INTERNAT</td>\n",
              "      <td>0</td>\n",
              "      <td>ODS25IEHI</td>\n",
              "    </tr>\n",
              "    <tr>\n",
              "      <th>4</th>\n",
              "      <td>2021-10-01</td>\n",
              "      <td>I9429</td>\n",
              "      <td>ALTRES SERVEIS SANITARIS SENSE INTERNAT</td>\n",
              "      <td>5</td>\n",
              "      <td>ODS25IEHI</td>\n",
              "    </tr>\n",
              "  </tbody>\n",
              "</table>\n",
              "</div>"
            ],
            "text/plain": [
              "        DATA NUM_IAE                                 TEXT_IAE  CONSUM_MES  \\\n",
              "0 2018-04-01   I9429  ALTRES SERVEIS SANITARIS SENSE INTERNAT          14   \n",
              "1 2019-10-01   I9429  ALTRES SERVEIS SANITARIS SENSE INTERNAT          29   \n",
              "2 2019-12-01   I9429  ALTRES SERVEIS SANITARIS SENSE INTERNAT          26   \n",
              "3 2021-02-01   I9429  ALTRES SERVEIS SANITARIS SENSE INTERNAT           0   \n",
              "4 2021-10-01   I9429  ALTRES SERVEIS SANITARIS SENSE INTERNAT           5   \n",
              "\n",
              "  NUM_CLIENT_ANONIMITZAT  \n",
              "0              ODS25IEHI  \n",
              "1              ODS25IEHI  \n",
              "2              ODS25IEHI  \n",
              "3              ODS25IEHI  \n",
              "4              ODS25IEHI  "
            ]
          },
          "execution_count": 3,
          "metadata": {},
          "output_type": "execute_result"
        }
      ],
      "source": [
        "df_month = pd.read_csv('https://raw.githubusercontent.com/viladehack/Viladehack_DataScience/main/Consum_mensual_viladecans_2018_2022_clean.csv',\n",
        "                       parse_dates=[\"DATA\"], \n",
        "                       infer_datetime_format=True)\n",
        "df_month.head()"
      ]
    },
    {
      "cell_type": "code",
      "execution_count": 4,
      "metadata": {
        "colab": {
          "base_uri": "https://localhost:8080/",
          "height": 206
        },
        "id": "_2Ju1LazRKlB",
        "outputId": "bc23f013-863a-47ee-8f3b-9cd644209137"
      },
      "outputs": [
        {
          "data": {
            "text/html": [
              "<div>\n",
              "<style scoped>\n",
              "    .dataframe tbody tr th:only-of-type {\n",
              "        vertical-align: middle;\n",
              "    }\n",
              "\n",
              "    .dataframe tbody tr th {\n",
              "        vertical-align: top;\n",
              "    }\n",
              "\n",
              "    .dataframe thead th {\n",
              "        text-align: right;\n",
              "    }\n",
              "</style>\n",
              "<table border=\"1\" class=\"dataframe\">\n",
              "  <thead>\n",
              "    <tr style=\"text-align: right;\">\n",
              "      <th></th>\n",
              "      <th>DATA</th>\n",
              "      <th>TIPUS_CLIENT</th>\n",
              "      <th>CONSUM</th>\n",
              "      <th>NUM_CLIENT_ANONIMITZAT</th>\n",
              "    </tr>\n",
              "  </thead>\n",
              "  <tbody>\n",
              "    <tr>\n",
              "      <th>0</th>\n",
              "      <td>2018-01-24</td>\n",
              "      <td>COMERCIAL</td>\n",
              "      <td>0</td>\n",
              "      <td>ODS25IEHI</td>\n",
              "    </tr>\n",
              "    <tr>\n",
              "      <th>1</th>\n",
              "      <td>2018-01-03</td>\n",
              "      <td>COMERCIAL</td>\n",
              "      <td>0</td>\n",
              "      <td>ODS25IEHI</td>\n",
              "    </tr>\n",
              "    <tr>\n",
              "      <th>2</th>\n",
              "      <td>2018-01-28</td>\n",
              "      <td>COMERCIAL</td>\n",
              "      <td>20</td>\n",
              "      <td>ODS25IEHI</td>\n",
              "    </tr>\n",
              "    <tr>\n",
              "      <th>3</th>\n",
              "      <td>2018-01-19</td>\n",
              "      <td>COMERCIAL</td>\n",
              "      <td>31</td>\n",
              "      <td>ODS25IEHI</td>\n",
              "    </tr>\n",
              "    <tr>\n",
              "      <th>4</th>\n",
              "      <td>2018-01-18</td>\n",
              "      <td>COMERCIAL</td>\n",
              "      <td>31</td>\n",
              "      <td>ODS25IEHI</td>\n",
              "    </tr>\n",
              "  </tbody>\n",
              "</table>\n",
              "</div>"
            ],
            "text/plain": [
              "        DATA TIPUS_CLIENT  CONSUM NUM_CLIENT_ANONIMITZAT\n",
              "0 2018-01-24    COMERCIAL       0              ODS25IEHI\n",
              "1 2018-01-03    COMERCIAL       0              ODS25IEHI\n",
              "2 2018-01-28    COMERCIAL      20              ODS25IEHI\n",
              "3 2018-01-19    COMERCIAL      31              ODS25IEHI\n",
              "4 2018-01-18    COMERCIAL      31              ODS25IEHI"
            ]
          },
          "execution_count": 4,
          "metadata": {},
          "output_type": "execute_result"
        }
      ],
      "source": [
        "df_day   = pd.read_csv('https://raw.githubusercontent.com/viladehack/Viladehack_DataScience/main/Consum_diari_viladecans_2018_2021.csv',\n",
        "                       parse_dates=[\"DATA\"], \n",
        "                       infer_datetime_format=True)\n",
        "df_day.head()"
      ]
    },
    {
      "cell_type": "code",
      "execution_count": 5,
      "metadata": {
        "colab": {
          "base_uri": "https://localhost:8080/",
          "height": 206
        },
        "id": "_5iVzuGd9eyp",
        "outputId": "1463da21-aa54-4134-9a87-93e2a912464a"
      },
      "outputs": [
        {
          "data": {
            "text/html": [
              "<div>\n",
              "<style scoped>\n",
              "    .dataframe tbody tr th:only-of-type {\n",
              "        vertical-align: middle;\n",
              "    }\n",
              "\n",
              "    .dataframe tbody tr th {\n",
              "        vertical-align: top;\n",
              "    }\n",
              "\n",
              "    .dataframe thead th {\n",
              "        text-align: right;\n",
              "    }\n",
              "</style>\n",
              "<table border=\"1\" class=\"dataframe\">\n",
              "  <thead>\n",
              "    <tr style=\"text-align: right;\">\n",
              "      <th></th>\n",
              "      <th>NUM_CLIENT_ANONIMITZAT</th>\n",
              "      <th>NUM_IAE</th>\n",
              "      <th>TEXT_IAE</th>\n",
              "    </tr>\n",
              "  </thead>\n",
              "  <tbody>\n",
              "    <tr>\n",
              "      <th>0</th>\n",
              "      <td>ODS25IEHI</td>\n",
              "      <td>I9429</td>\n",
              "      <td>ALTRES SERVEIS SANITARIS SENSE INTERNAT</td>\n",
              "    </tr>\n",
              "    <tr>\n",
              "      <th>1</th>\n",
              "      <td>ODS25IEHI</td>\n",
              "      <td>I9429</td>\n",
              "      <td>ALTRES SERVEIS SANITARIS SENSE INTERNAT</td>\n",
              "    </tr>\n",
              "    <tr>\n",
              "      <th>2</th>\n",
              "      <td>ODS25IEHI</td>\n",
              "      <td>I9429</td>\n",
              "      <td>ALTRES SERVEIS SANITARIS SENSE INTERNAT</td>\n",
              "    </tr>\n",
              "    <tr>\n",
              "      <th>3</th>\n",
              "      <td>ODS25IEHI</td>\n",
              "      <td>I9429</td>\n",
              "      <td>ALTRES SERVEIS SANITARIS SENSE INTERNAT</td>\n",
              "    </tr>\n",
              "    <tr>\n",
              "      <th>4</th>\n",
              "      <td>ODS25IEHI</td>\n",
              "      <td>I9429</td>\n",
              "      <td>ALTRES SERVEIS SANITARIS SENSE INTERNAT</td>\n",
              "    </tr>\n",
              "  </tbody>\n",
              "</table>\n",
              "</div>"
            ],
            "text/plain": [
              "  NUM_CLIENT_ANONIMITZAT NUM_IAE                                 TEXT_IAE\n",
              "0              ODS25IEHI   I9429  ALTRES SERVEIS SANITARIS SENSE INTERNAT\n",
              "1              ODS25IEHI   I9429  ALTRES SERVEIS SANITARIS SENSE INTERNAT\n",
              "2              ODS25IEHI   I9429  ALTRES SERVEIS SANITARIS SENSE INTERNAT\n",
              "3              ODS25IEHI   I9429  ALTRES SERVEIS SANITARIS SENSE INTERNAT\n",
              "4              ODS25IEHI   I9429  ALTRES SERVEIS SANITARIS SENSE INTERNAT"
            ]
          },
          "execution_count": 5,
          "metadata": {},
          "output_type": "execute_result"
        }
      ],
      "source": [
        "month =  df_month[[\"NUM_CLIENT_ANONIMITZAT\", \"NUM_IAE\", \"TEXT_IAE\" ]]\n",
        "month.head()"
      ]
    },
    {
      "cell_type": "code",
      "execution_count": 6,
      "metadata": {
        "id": "PTe0oh2z-K9F"
      },
      "outputs": [],
      "source": [
        "month = month.drop_duplicates()"
      ]
    },
    {
      "cell_type": "code",
      "execution_count": 7,
      "metadata": {
        "colab": {
          "base_uri": "https://localhost:8080/",
          "height": 424
        },
        "id": "mV6KMWod_5mZ",
        "outputId": "ddc42f0b-39a2-4b39-be29-bd918a011ee5"
      },
      "outputs": [
        {
          "data": {
            "text/html": [
              "<div>\n",
              "<style scoped>\n",
              "    .dataframe tbody tr th:only-of-type {\n",
              "        vertical-align: middle;\n",
              "    }\n",
              "\n",
              "    .dataframe tbody tr th {\n",
              "        vertical-align: top;\n",
              "    }\n",
              "\n",
              "    .dataframe thead th {\n",
              "        text-align: right;\n",
              "    }\n",
              "</style>\n",
              "<table border=\"1\" class=\"dataframe\">\n",
              "  <thead>\n",
              "    <tr style=\"text-align: right;\">\n",
              "      <th></th>\n",
              "      <th>DATA</th>\n",
              "      <th>TIPUS_CLIENT</th>\n",
              "      <th>CONSUM</th>\n",
              "      <th>NUM_CLIENT_ANONIMITZAT</th>\n",
              "      <th>NUM_IAE</th>\n",
              "      <th>TEXT_IAE</th>\n",
              "    </tr>\n",
              "  </thead>\n",
              "  <tbody>\n",
              "    <tr>\n",
              "      <th>0</th>\n",
              "      <td>2018-01-24</td>\n",
              "      <td>COMERCIAL</td>\n",
              "      <td>0</td>\n",
              "      <td>ODS25IEHI</td>\n",
              "      <td>I9429</td>\n",
              "      <td>ALTRES SERVEIS SANITARIS SENSE INTERNAT</td>\n",
              "    </tr>\n",
              "    <tr>\n",
              "      <th>1</th>\n",
              "      <td>2018-01-03</td>\n",
              "      <td>COMERCIAL</td>\n",
              "      <td>0</td>\n",
              "      <td>ODS25IEHI</td>\n",
              "      <td>I9429</td>\n",
              "      <td>ALTRES SERVEIS SANITARIS SENSE INTERNAT</td>\n",
              "    </tr>\n",
              "    <tr>\n",
              "      <th>2</th>\n",
              "      <td>2018-01-28</td>\n",
              "      <td>COMERCIAL</td>\n",
              "      <td>20</td>\n",
              "      <td>ODS25IEHI</td>\n",
              "      <td>I9429</td>\n",
              "      <td>ALTRES SERVEIS SANITARIS SENSE INTERNAT</td>\n",
              "    </tr>\n",
              "    <tr>\n",
              "      <th>3</th>\n",
              "      <td>2018-01-19</td>\n",
              "      <td>COMERCIAL</td>\n",
              "      <td>31</td>\n",
              "      <td>ODS25IEHI</td>\n",
              "      <td>I9429</td>\n",
              "      <td>ALTRES SERVEIS SANITARIS SENSE INTERNAT</td>\n",
              "    </tr>\n",
              "    <tr>\n",
              "      <th>4</th>\n",
              "      <td>2018-01-18</td>\n",
              "      <td>COMERCIAL</td>\n",
              "      <td>31</td>\n",
              "      <td>ODS25IEHI</td>\n",
              "      <td>I9429</td>\n",
              "      <td>ALTRES SERVEIS SANITARIS SENSE INTERNAT</td>\n",
              "    </tr>\n",
              "    <tr>\n",
              "      <th>...</th>\n",
              "      <td>...</td>\n",
              "      <td>...</td>\n",
              "      <td>...</td>\n",
              "      <td>...</td>\n",
              "      <td>...</td>\n",
              "      <td>...</td>\n",
              "    </tr>\n",
              "    <tr>\n",
              "      <th>928262</th>\n",
              "      <td>2021-12-12</td>\n",
              "      <td>COMERCIAL</td>\n",
              "      <td>3</td>\n",
              "      <td>G02DCTC9T</td>\n",
              "      <td>IXXXX</td>\n",
              "      <td>ACTIVITAT DESCONEGUDA</td>\n",
              "    </tr>\n",
              "    <tr>\n",
              "      <th>928263</th>\n",
              "      <td>2021-12-15</td>\n",
              "      <td>COMERCIAL</td>\n",
              "      <td>-1</td>\n",
              "      <td>G02DCTC9T</td>\n",
              "      <td>IXXXX</td>\n",
              "      <td>ACTIVITAT DESCONEGUDA</td>\n",
              "    </tr>\n",
              "    <tr>\n",
              "      <th>928264</th>\n",
              "      <td>2021-12-23</td>\n",
              "      <td>COMERCIAL</td>\n",
              "      <td>50</td>\n",
              "      <td>G02DCTC9T</td>\n",
              "      <td>IXXXX</td>\n",
              "      <td>ACTIVITAT DESCONEGUDA</td>\n",
              "    </tr>\n",
              "    <tr>\n",
              "      <th>928265</th>\n",
              "      <td>2021-12-27</td>\n",
              "      <td>COMERCIAL</td>\n",
              "      <td>101</td>\n",
              "      <td>G02DCTC9T</td>\n",
              "      <td>IXXXX</td>\n",
              "      <td>ACTIVITAT DESCONEGUDA</td>\n",
              "    </tr>\n",
              "    <tr>\n",
              "      <th>928266</th>\n",
              "      <td>2021-12-29</td>\n",
              "      <td>COMERCIAL</td>\n",
              "      <td>74</td>\n",
              "      <td>G02DCTC9T</td>\n",
              "      <td>IXXXX</td>\n",
              "      <td>ACTIVITAT DESCONEGUDA</td>\n",
              "    </tr>\n",
              "  </tbody>\n",
              "</table>\n",
              "<p>928267 rows × 6 columns</p>\n",
              "</div>"
            ],
            "text/plain": [
              "             DATA TIPUS_CLIENT  CONSUM NUM_CLIENT_ANONIMITZAT NUM_IAE  \\\n",
              "0      2018-01-24    COMERCIAL       0              ODS25IEHI   I9429   \n",
              "1      2018-01-03    COMERCIAL       0              ODS25IEHI   I9429   \n",
              "2      2018-01-28    COMERCIAL      20              ODS25IEHI   I9429   \n",
              "3      2018-01-19    COMERCIAL      31              ODS25IEHI   I9429   \n",
              "4      2018-01-18    COMERCIAL      31              ODS25IEHI   I9429   \n",
              "...           ...          ...     ...                    ...     ...   \n",
              "928262 2021-12-12    COMERCIAL       3              G02DCTC9T   IXXXX   \n",
              "928263 2021-12-15    COMERCIAL      -1              G02DCTC9T   IXXXX   \n",
              "928264 2021-12-23    COMERCIAL      50              G02DCTC9T   IXXXX   \n",
              "928265 2021-12-27    COMERCIAL     101              G02DCTC9T   IXXXX   \n",
              "928266 2021-12-29    COMERCIAL      74              G02DCTC9T   IXXXX   \n",
              "\n",
              "                                       TEXT_IAE  \n",
              "0       ALTRES SERVEIS SANITARIS SENSE INTERNAT  \n",
              "1       ALTRES SERVEIS SANITARIS SENSE INTERNAT  \n",
              "2       ALTRES SERVEIS SANITARIS SENSE INTERNAT  \n",
              "3       ALTRES SERVEIS SANITARIS SENSE INTERNAT  \n",
              "4       ALTRES SERVEIS SANITARIS SENSE INTERNAT  \n",
              "...                                         ...  \n",
              "928262                    ACTIVITAT DESCONEGUDA  \n",
              "928263                    ACTIVITAT DESCONEGUDA  \n",
              "928264                    ACTIVITAT DESCONEGUDA  \n",
              "928265                    ACTIVITAT DESCONEGUDA  \n",
              "928266                    ACTIVITAT DESCONEGUDA  \n",
              "\n",
              "[928267 rows x 6 columns]"
            ]
          },
          "execution_count": 7,
          "metadata": {},
          "output_type": "execute_result"
        }
      ],
      "source": [
        "df = pd.merge(df_day, month, on=['NUM_CLIENT_ANONIMITZAT'])\n",
        "df"
      ]
    },
    {
      "cell_type": "code",
      "execution_count": 8,
      "metadata": {
        "colab": {
          "base_uri": "https://localhost:8080/"
        },
        "id": "5g45ZJwPSKMc",
        "outputId": "8412cb90-57db-4b71-9130-e4ddd7b7b2d1"
      },
      "outputs": [
        {
          "data": {
            "text/plain": [
              "DATA                       1460\n",
              "TIPUS_CLIENT                  2\n",
              "CONSUM                    13393\n",
              "NUM_CLIENT_ANONIMITZAT     1686\n",
              "NUM_IAE                     324\n",
              "TEXT_IAE                    322\n",
              "dtype: int64"
            ]
          },
          "execution_count": 8,
          "metadata": {},
          "output_type": "execute_result"
        }
      ],
      "source": [
        "df.nunique()"
      ]
    },
    {
      "cell_type": "code",
      "execution_count": 9,
      "metadata": {
        "colab": {
          "base_uri": "https://localhost:8080/"
        },
        "id": "cBVj-ABvSrMx",
        "outputId": "afe7e999-97d0-4772-b97a-4e80b876b078"
      },
      "outputs": [
        {
          "data": {
            "text/plain": [
              "array(['COMERCIAL', 'INDUSTRIAL'], dtype=object)"
            ]
          },
          "execution_count": 9,
          "metadata": {},
          "output_type": "execute_result"
        }
      ],
      "source": [
        "df.TIPUS_CLIENT.unique()"
      ]
    },
    {
      "cell_type": "code",
      "execution_count": 10,
      "metadata": {
        "colab": {
          "base_uri": "https://localhost:8080/",
          "height": 206
        },
        "id": "YoPh_ARxSydZ",
        "outputId": "356efea0-d90b-4a07-9839-b938c9246015"
      },
      "outputs": [
        {
          "data": {
            "text/html": [
              "<div>\n",
              "<style scoped>\n",
              "    .dataframe tbody tr th:only-of-type {\n",
              "        vertical-align: middle;\n",
              "    }\n",
              "\n",
              "    .dataframe tbody tr th {\n",
              "        vertical-align: top;\n",
              "    }\n",
              "\n",
              "    .dataframe thead th {\n",
              "        text-align: right;\n",
              "    }\n",
              "</style>\n",
              "<table border=\"1\" class=\"dataframe\">\n",
              "  <thead>\n",
              "    <tr style=\"text-align: right;\">\n",
              "      <th></th>\n",
              "      <th>DATA</th>\n",
              "      <th>TIPUS_CLIENT</th>\n",
              "      <th>CONSUM</th>\n",
              "      <th>NUM_CLIENT_ANONIMITZAT</th>\n",
              "      <th>NUM_IAE</th>\n",
              "      <th>TEXT_IAE</th>\n",
              "    </tr>\n",
              "  </thead>\n",
              "  <tbody>\n",
              "    <tr>\n",
              "      <th>9965</th>\n",
              "      <td>2018-02-25</td>\n",
              "      <td>INDUSTRIAL</td>\n",
              "      <td>0</td>\n",
              "      <td>WIOKSIZFR</td>\n",
              "      <td>I9997</td>\n",
              "      <td>Sense activitat o desconeguda</td>\n",
              "    </tr>\n",
              "    <tr>\n",
              "      <th>9966</th>\n",
              "      <td>2018-02-11</td>\n",
              "      <td>INDUSTRIAL</td>\n",
              "      <td>0</td>\n",
              "      <td>WIOKSIZFR</td>\n",
              "      <td>I9997</td>\n",
              "      <td>Sense activitat o desconeguda</td>\n",
              "    </tr>\n",
              "    <tr>\n",
              "      <th>9967</th>\n",
              "      <td>2018-02-08</td>\n",
              "      <td>INDUSTRIAL</td>\n",
              "      <td>0</td>\n",
              "      <td>WIOKSIZFR</td>\n",
              "      <td>I9997</td>\n",
              "      <td>Sense activitat o desconeguda</td>\n",
              "    </tr>\n",
              "    <tr>\n",
              "      <th>9968</th>\n",
              "      <td>2018-02-01</td>\n",
              "      <td>INDUSTRIAL</td>\n",
              "      <td>0</td>\n",
              "      <td>WIOKSIZFR</td>\n",
              "      <td>I9997</td>\n",
              "      <td>Sense activitat o desconeguda</td>\n",
              "    </tr>\n",
              "    <tr>\n",
              "      <th>9969</th>\n",
              "      <td>2018-02-18</td>\n",
              "      <td>INDUSTRIAL</td>\n",
              "      <td>0</td>\n",
              "      <td>WIOKSIZFR</td>\n",
              "      <td>I9997</td>\n",
              "      <td>Sense activitat o desconeguda</td>\n",
              "    </tr>\n",
              "  </tbody>\n",
              "</table>\n",
              "</div>"
            ],
            "text/plain": [
              "           DATA TIPUS_CLIENT  CONSUM NUM_CLIENT_ANONIMITZAT NUM_IAE  \\\n",
              "9965 2018-02-25   INDUSTRIAL       0              WIOKSIZFR   I9997   \n",
              "9966 2018-02-11   INDUSTRIAL       0              WIOKSIZFR   I9997   \n",
              "9967 2018-02-08   INDUSTRIAL       0              WIOKSIZFR   I9997   \n",
              "9968 2018-02-01   INDUSTRIAL       0              WIOKSIZFR   I9997   \n",
              "9969 2018-02-18   INDUSTRIAL       0              WIOKSIZFR   I9997   \n",
              "\n",
              "                           TEXT_IAE  \n",
              "9965  Sense activitat o desconeguda  \n",
              "9966  Sense activitat o desconeguda  \n",
              "9967  Sense activitat o desconeguda  \n",
              "9968  Sense activitat o desconeguda  \n",
              "9969  Sense activitat o desconeguda  "
            ]
          },
          "execution_count": 10,
          "metadata": {},
          "output_type": "execute_result"
        }
      ],
      "source": [
        "INDUSTRIAL_df = df[df[\"TIPUS_CLIENT\"]==\"INDUSTRIAL\"]\n",
        "INDUSTRIAL_df.head()"
      ]
    },
    {
      "cell_type": "code",
      "execution_count": 11,
      "metadata": {
        "colab": {
          "base_uri": "https://localhost:8080/"
        },
        "id": "C4OgKIQTTS-r",
        "outputId": "2dadfb67-8a82-475c-f663-2208ca6c6f9e"
      },
      "outputs": [
        {
          "data": {
            "text/plain": [
              "DATA                       1460\n",
              "TIPUS_CLIENT                  1\n",
              "CONSUM                    12381\n",
              "NUM_CLIENT_ANONIMITZAT      131\n",
              "NUM_IAE                      87\n",
              "TEXT_IAE                     87\n",
              "dtype: int64"
            ]
          },
          "execution_count": 11,
          "metadata": {},
          "output_type": "execute_result"
        }
      ],
      "source": [
        "INDUSTRIAL_df.nunique()"
      ]
    },
    {
      "cell_type": "code",
      "execution_count": 12,
      "metadata": {
        "colab": {
          "base_uri": "https://localhost:8080/"
        },
        "id": "3npzSSBoTtr0",
        "outputId": "57c7eed4-c2de-4e72-fc2d-ab565c691011"
      },
      "outputs": [
        {
          "data": {
            "text/plain": [
              "DATA                      1460\n",
              "TIPUS_CLIENT                 2\n",
              "CONSUM                    3132\n",
              "NUM_CLIENT_ANONIMITZAT     301\n",
              "NUM_IAE                      1\n",
              "TEXT_IAE                     1\n",
              "dtype: int64"
            ]
          },
          "execution_count": 12,
          "metadata": {},
          "output_type": "execute_result"
        }
      ],
      "source": [
        "df[df[\"NUM_IAE\"]==\"I9997\"].nunique()"
      ]
    },
    {
      "cell_type": "code",
      "execution_count": 30,
      "metadata": {
        "colab": {
          "base_uri": "https://localhost:8080/",
          "height": 302
        },
        "id": "KR0g5PPgTPbM",
        "outputId": "df0d7c85-6cfc-424e-a040-86ef96150b3a"
      },
      "outputs": [
        {
          "data": {
            "text/plain": [
              "<AxesSubplot:xlabel='DATA', ylabel='CONSUM'>"
            ]
          },
          "execution_count": 30,
          "metadata": {},
          "output_type": "execute_result"
        },
        {
          "data": {
            "image/png": "[encoded data removed]",
            "text/plain": [
              "<Figure size 432x288 with 1 Axes>"
            ]
          },
          "metadata": {
            "needs_background": "light"
          },
          "output_type": "display_data"
        }
      ],
      "source": [
        "sns.set_style()\n",
        "sns.lineplot(x=\"DATA\", y=\"CONSUM\",\n",
        "             data=df[df[\"NUM_IAE\"]==\"I9997\"])"
      ]
    },
    {
      "cell_type": "code",
      "execution_count": 14,
      "metadata": {
        "colab": {
          "base_uri": "https://localhost:8080/",
          "height": 424
        },
        "id": "RrKGC-dGSykP",
        "outputId": "6965475a-f8f5-4c17-bec5-6a49e35ccc1f"
      },
      "outputs": [],
      "source": [
        "COMERCIAL_df = df[df[\"TIPUS_CLIENT\"]==\"COMERCIAL\"]"
      ]
    },
    {
      "cell_type": "code",
      "execution_count": 17,
      "metadata": {},
      "outputs": [
        {
          "data": {
            "text/plain": [
              "DATA                      1460\n",
              "TIPUS_CLIENT                 1\n",
              "CONSUM                    4602\n",
              "NUM_CLIENT_ANONIMITZAT    1562\n",
              "NUM_IAE                    290\n",
              "TEXT_IAE                   288\n",
              "dtype: int64"
            ]
          },
          "execution_count": 17,
          "metadata": {},
          "output_type": "execute_result"
        }
      ],
      "source": [
        "COMERCIAL_df.nunique()"
      ]
    },
    {
      "cell_type": "code",
      "execution_count": 29,
      "metadata": {},
      "outputs": [],
      "source": [
        "df_comercial_consum = COMERCIAL_df.groupby('NUM_CLIENT_ANONIMITZAT').sum().sort_values(by='CONSUM')\n",
        "df_comercial_consum = df_comercial_consum.reset_index()"
      ]
    }
  ],
  "metadata": {
    "colab": {
      "collapsed_sections": [],
      "include_colab_link": true,
      "name": "vila_data_clean.ipynb",
      "provenance": []
    },
    "kernelspec": {
      "display_name": "Python 3",
      "name": "python3"
    },
    "language_info": {
      "codemirror_mode": {
        "name": "ipython",
        "version": 3
      },
      "file_extension": ".py",
      "mimetype": "text/x-python",
      "name": "python",
      "nbconvert_exporter": "python",
      "pygments_lexer": "ipython3",
      "version": "3.9.7"
    }
  },
  "nbformat": 4,
  "nbformat_minor": 0
}
