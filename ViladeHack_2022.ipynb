{
 "cells": [
  {
   "cell_type": "markdown",
   "metadata": {},
   "source": [
    "# Hackathon ViladeHack 2022\n",
    "\n",
    "![](2022-03-26-09-50-38.png)\n",
    "![](2022-03-26-09-50-09.png)\n",
    "\n",
    "- Viladecans daily consumption \n",
    "\n",
    "\t- DATA - Consumption registration date\n",
    "\t- TIPUS_CLIENT - Type of customer (commercial or industrial, in both cases it is non-domestic customers)\n",
    "\t- CONSUM_DIA - Accumulated consumption during the day in m3\n",
    "\t- NUM_CLIENT_ANONIMITZAT - Anonymised customer number\n",
    "----  \n",
    "- Monthly consumption Viladecans\n",
    "\n",
    "\t- DATA - Invoice date of consumption\n",
    "\t- NUM_IAE - IAE epigraph of economic activity of the business\n",
    "\t- TEXT_IAE - Descriptive text of the IAE epigraph\n",
    "\t- CONSUM_MES - Accumulated consumption during the two-month billing period (in m3)\n",
    "\t- NUM_CLIENT_ANONIMITZAT - Anonymised customer number\n",
    "\n",
    "The monthly consumption dataset provides information on the type of economic activity of the customers.  \n",
    "**The consumption information is not relevant in this dataset.**"
   ]
  },
  {
   "cell_type": "markdown",
   "metadata": {},
   "source": [
    "## Libraries"
   ]
  },
  {
   "cell_type": "code",
   "execution_count": 1,
   "metadata": {},
   "outputs": [],
   "source": [
    "# Import libraries\n",
    "import pandas as pd\n",
    "import numpy as np\n",
    "from sklearn.linear_model import LinearRegression\n",
    "from sklearn.model_selection import cross_val_score\n",
    "\n",
    "# Import personal library\n",
    "import Pers_lib as Pers"
   ]
  },
  {
   "cell_type": "code",
   "execution_count": 2,
   "metadata": {},
   "outputs": [],
   "source": [
    "# settings to display all columns (default is 20, now is None (all))\n",
    "pd.set_option(\"display.max_columns\", None)"
   ]
  },
  {
   "cell_type": "code",
   "execution_count": 3,
   "metadata": {},
   "outputs": [],
   "source": [
    "# Import cleaned and sampled train an test dataset from previous Task.\n",
    "df_month = pd.read_csv('.\\Codigos_por_meses.csv')\n",
    "df_day   = pd.read_csv('.\\Consum_diari_viladecans_2018_2021.csv')"
   ]
  },
  {
   "cell_type": "code",
   "execution_count": 4,
   "metadata": {},
   "outputs": [
    {
     "name": "stdout",
     "output_type": "stream",
     "text": [
      "[-------------------------SHAPE------------------------]\n"
     ]
    },
    {
     "data": {
      "text/plain": [
       "(802254, 4)"
      ]
     },
     "metadata": {},
     "output_type": "display_data"
    },
    {
     "name": "stdout",
     "output_type": "stream",
     "text": [
      "[-------------------------INFO-------------------------]\n",
      "<class 'pandas.core.frame.DataFrame'>\n",
      "RangeIndex: 802254 entries, 0 to 802253\n",
      "Data columns (total 4 columns):\n",
      " #   Column                  Non-Null Count   Dtype \n",
      "---  ------                  --------------   ----- \n",
      " 0   DATA                    802254 non-null  object\n",
      " 1   TIPUS_CLIENT            802254 non-null  object\n",
      " 2   CONSUM                  802254 non-null  int64 \n",
      " 3   NUM_CLIENT_ANONIMITZAT  802254 non-null  object\n",
      "dtypes: int64(1), object(3)\n",
      "memory usage: 24.5+ MB\n"
     ]
    },
    {
     "data": {
      "text/plain": [
       "None"
      ]
     },
     "metadata": {},
     "output_type": "display_data"
    },
    {
     "name": "stdout",
     "output_type": "stream",
     "text": [
      "[-----------------------DESCRIBE-----------------------]\n"
     ]
    },
    {
     "data": {
      "text/html": [
       "<div>\n",
       "<style scoped>\n",
       "    .dataframe tbody tr th:only-of-type {\n",
       "        vertical-align: middle;\n",
       "    }\n",
       "\n",
       "    .dataframe tbody tr th {\n",
       "        vertical-align: top;\n",
       "    }\n",
       "\n",
       "    .dataframe thead th {\n",
       "        text-align: right;\n",
       "    }\n",
       "</style>\n",
       "<table border=\"1\" class=\"dataframe\">\n",
       "  <thead>\n",
       "    <tr style=\"text-align: right;\">\n",
       "      <th></th>\n",
       "      <th>DATA</th>\n",
       "      <th>TIPUS_CLIENT</th>\n",
       "      <th>CONSUM</th>\n",
       "      <th>NUM_CLIENT_ANONIMITZAT</th>\n",
       "    </tr>\n",
       "  </thead>\n",
       "  <tbody>\n",
       "    <tr>\n",
       "      <th>count</th>\n",
       "      <td>802254</td>\n",
       "      <td>802254</td>\n",
       "      <td>802254.00</td>\n",
       "      <td>802254</td>\n",
       "    </tr>\n",
       "    <tr>\n",
       "      <th>unique</th>\n",
       "      <td>1460</td>\n",
       "      <td>2</td>\n",
       "      <td>NaN</td>\n",
       "      <td>1686</td>\n",
       "    </tr>\n",
       "    <tr>\n",
       "      <th>top</th>\n",
       "      <td>2021-12-19</td>\n",
       "      <td>COMERCIAL</td>\n",
       "      <td>NaN</td>\n",
       "      <td>DBFEA0ILH</td>\n",
       "    </tr>\n",
       "    <tr>\n",
       "      <th>freq</th>\n",
       "      <td>1458</td>\n",
       "      <td>726809</td>\n",
       "      <td>NaN</td>\n",
       "      <td>1460</td>\n",
       "    </tr>\n",
       "    <tr>\n",
       "      <th>mean</th>\n",
       "      <td>NaN</td>\n",
       "      <td>NaN</td>\n",
       "      <td>563.94</td>\n",
       "      <td>NaN</td>\n",
       "    </tr>\n",
       "    <tr>\n",
       "      <th>std</th>\n",
       "      <td>NaN</td>\n",
       "      <td>NaN</td>\n",
       "      <td>36958.07</td>\n",
       "      <td>NaN</td>\n",
       "    </tr>\n",
       "    <tr>\n",
       "      <th>min</th>\n",
       "      <td>NaN</td>\n",
       "      <td>NaN</td>\n",
       "      <td>-521870.00</td>\n",
       "      <td>NaN</td>\n",
       "    </tr>\n",
       "    <tr>\n",
       "      <th>25%</th>\n",
       "      <td>NaN</td>\n",
       "      <td>NaN</td>\n",
       "      <td>0.00</td>\n",
       "      <td>NaN</td>\n",
       "    </tr>\n",
       "    <tr>\n",
       "      <th>50%</th>\n",
       "      <td>NaN</td>\n",
       "      <td>NaN</td>\n",
       "      <td>30.00</td>\n",
       "      <td>NaN</td>\n",
       "    </tr>\n",
       "    <tr>\n",
       "      <th>75%</th>\n",
       "      <td>NaN</td>\n",
       "      <td>NaN</td>\n",
       "      <td>167.00</td>\n",
       "      <td>NaN</td>\n",
       "    </tr>\n",
       "    <tr>\n",
       "      <th>max</th>\n",
       "      <td>NaN</td>\n",
       "      <td>NaN</td>\n",
       "      <td>26307979.00</td>\n",
       "      <td>NaN</td>\n",
       "    </tr>\n",
       "  </tbody>\n",
       "</table>\n",
       "</div>"
      ],
      "text/plain": [
       "              DATA TIPUS_CLIENT       CONSUM NUM_CLIENT_ANONIMITZAT\n",
       "count       802254       802254    802254.00                 802254\n",
       "unique        1460            2          NaN                   1686\n",
       "top     2021-12-19    COMERCIAL          NaN              DBFEA0ILH\n",
       "freq          1458       726809          NaN                   1460\n",
       "mean           NaN          NaN       563.94                    NaN\n",
       "std            NaN          NaN     36958.07                    NaN\n",
       "min            NaN          NaN   -521870.00                    NaN\n",
       "25%            NaN          NaN         0.00                    NaN\n",
       "50%            NaN          NaN        30.00                    NaN\n",
       "75%            NaN          NaN       167.00                    NaN\n",
       "max            NaN          NaN  26307979.00                    NaN"
      ]
     },
     "metadata": {},
     "output_type": "display_data"
    },
    {
     "name": "stdout",
     "output_type": "stream",
     "text": [
      "[------------------------NaN's-------------------------]\n"
     ]
    },
    {
     "data": {
      "text/plain": [
       "DATA                      0\n",
       "TIPUS_CLIENT              0\n",
       "CONSUM                    0\n",
       "NUM_CLIENT_ANONIMITZAT    0\n",
       "dtype: int64"
      ]
     },
     "metadata": {},
     "output_type": "display_data"
    },
    {
     "name": "stdout",
     "output_type": "stream",
     "text": [
      "[--------------Values in categorical variables---------]\n",
      "------------------DATA-------------------\n",
      "------------Unique Values--------------\n",
      "Number of unique values is: 1460\n",
      "['2018-01-24' '2018-01-03' '2018-01-28' ... '2021-12-01' '2021-12-03'\n",
      " '2020-07-20']\n",
      "------------Value Counts--------------\n"
     ]
    },
    {
     "data": {
      "text/plain": [
       "2021-12-19    1458\n",
       "2021-12-18    1458\n",
       "2021-12-20    1458\n",
       "2021-12-21    1458\n",
       "2021-12-24    1457\n",
       "              ... \n",
       "2018-02-03      76\n",
       "2018-02-02      76\n",
       "2018-01-07      76\n",
       "2018-01-08      76\n",
       "2020-07-20      35\n",
       "Name: DATA, Length: 1460, dtype: int64"
      ]
     },
     "metadata": {},
     "output_type": "display_data"
    },
    {
     "name": "stdout",
     "output_type": "stream",
     "text": [
      "------------------TIPUS_CLIENT-------------------\n",
      "------------Unique Values--------------\n",
      "Number of unique values is: 2\n",
      "['COMERCIAL' 'INDUSTRIAL']\n",
      "------------Value Counts--------------\n"
     ]
    },
    {
     "data": {
      "text/plain": [
       "COMERCIAL     726809\n",
       "INDUSTRIAL     75445\n",
       "Name: TIPUS_CLIENT, dtype: int64"
      ]
     },
     "metadata": {},
     "output_type": "display_data"
    },
    {
     "name": "stdout",
     "output_type": "stream",
     "text": [
      "------------------NUM_CLIENT_ANONIMITZAT-------------------\n",
      "------------Unique Values--------------\n",
      "Number of unique values is: 1686\n",
      "['ODS25IEHI' 'DR0R23EW6' '1BZMYTGZV' ... 'TJJR395X6' '1S8FMJTA5'\n",
      " 'G02DCTC9T']\n",
      "------------Value Counts--------------\n"
     ]
    },
    {
     "data": {
      "text/plain": [
       "DBFEA0ILH    1460\n",
       "X37Q8Y78Y    1460\n",
       "FDOKN6MBB    1460\n",
       "NI5UUCKQ7    1459\n",
       "BBAVWOTEH    1459\n",
       "             ... \n",
       "KH8FZ9JR2       9\n",
       "3O5CMXQ4J       8\n",
       "IWV8547XT       8\n",
       "BKG05GCXO       6\n",
       "F6N06NPVZ       6\n",
       "Name: NUM_CLIENT_ANONIMITZAT, Length: 1686, dtype: int64"
      ]
     },
     "metadata": {},
     "output_type": "display_data"
    }
   ],
   "source": [
    "Pers.df_info(df_day)"
   ]
  },
  {
   "cell_type": "markdown",
   "metadata": {},
   "source": [
    "### CLEANING\n",
    "\n",
    "Let's first delete the columns we find non-relevant"
   ]
  },
  {
   "cell_type": "code",
   "execution_count": 5,
   "metadata": {},
   "outputs": [
    {
     "data": {
      "text/html": [
       "<div>\n",
       "<style scoped>\n",
       "    .dataframe tbody tr th:only-of-type {\n",
       "        vertical-align: middle;\n",
       "    }\n",
       "\n",
       "    .dataframe tbody tr th {\n",
       "        vertical-align: top;\n",
       "    }\n",
       "\n",
       "    .dataframe thead th {\n",
       "        text-align: right;\n",
       "    }\n",
       "</style>\n",
       "<table border=\"1\" class=\"dataframe\">\n",
       "  <thead>\n",
       "    <tr style=\"text-align: right;\">\n",
       "      <th></th>\n",
       "      <th>DATA</th>\n",
       "      <th>TIPUS_CLIENT</th>\n",
       "      <th>CONSUM</th>\n",
       "      <th>NUM_CLIENT_ANONIMITZAT</th>\n",
       "    </tr>\n",
       "  </thead>\n",
       "  <tbody>\n",
       "    <tr>\n",
       "      <th>0</th>\n",
       "      <td>2018-01-24</td>\n",
       "      <td>COMERCIAL</td>\n",
       "      <td>0</td>\n",
       "      <td>ODS25IEHI</td>\n",
       "    </tr>\n",
       "    <tr>\n",
       "      <th>1</th>\n",
       "      <td>2018-01-03</td>\n",
       "      <td>COMERCIAL</td>\n",
       "      <td>0</td>\n",
       "      <td>ODS25IEHI</td>\n",
       "    </tr>\n",
       "    <tr>\n",
       "      <th>2</th>\n",
       "      <td>2018-01-28</td>\n",
       "      <td>COMERCIAL</td>\n",
       "      <td>20</td>\n",
       "      <td>ODS25IEHI</td>\n",
       "    </tr>\n",
       "    <tr>\n",
       "      <th>3</th>\n",
       "      <td>2018-01-19</td>\n",
       "      <td>COMERCIAL</td>\n",
       "      <td>31</td>\n",
       "      <td>ODS25IEHI</td>\n",
       "    </tr>\n",
       "    <tr>\n",
       "      <th>4</th>\n",
       "      <td>2018-01-18</td>\n",
       "      <td>COMERCIAL</td>\n",
       "      <td>31</td>\n",
       "      <td>ODS25IEHI</td>\n",
       "    </tr>\n",
       "    <tr>\n",
       "      <th>...</th>\n",
       "      <td>...</td>\n",
       "      <td>...</td>\n",
       "      <td>...</td>\n",
       "      <td>...</td>\n",
       "    </tr>\n",
       "    <tr>\n",
       "      <th>802249</th>\n",
       "      <td>2021-12-12</td>\n",
       "      <td>COMERCIAL</td>\n",
       "      <td>3</td>\n",
       "      <td>G02DCTC9T</td>\n",
       "    </tr>\n",
       "    <tr>\n",
       "      <th>802250</th>\n",
       "      <td>2021-12-15</td>\n",
       "      <td>COMERCIAL</td>\n",
       "      <td>-1</td>\n",
       "      <td>G02DCTC9T</td>\n",
       "    </tr>\n",
       "    <tr>\n",
       "      <th>802251</th>\n",
       "      <td>2021-12-23</td>\n",
       "      <td>COMERCIAL</td>\n",
       "      <td>50</td>\n",
       "      <td>G02DCTC9T</td>\n",
       "    </tr>\n",
       "    <tr>\n",
       "      <th>802252</th>\n",
       "      <td>2021-12-27</td>\n",
       "      <td>COMERCIAL</td>\n",
       "      <td>101</td>\n",
       "      <td>G02DCTC9T</td>\n",
       "    </tr>\n",
       "    <tr>\n",
       "      <th>802253</th>\n",
       "      <td>2021-12-29</td>\n",
       "      <td>COMERCIAL</td>\n",
       "      <td>74</td>\n",
       "      <td>G02DCTC9T</td>\n",
       "    </tr>\n",
       "  </tbody>\n",
       "</table>\n",
       "<p>802254 rows × 4 columns</p>\n",
       "</div>"
      ],
      "text/plain": [
       "              DATA TIPUS_CLIENT  CONSUM NUM_CLIENT_ANONIMITZAT\n",
       "0       2018-01-24    COMERCIAL       0              ODS25IEHI\n",
       "1       2018-01-03    COMERCIAL       0              ODS25IEHI\n",
       "2       2018-01-28    COMERCIAL      20              ODS25IEHI\n",
       "3       2018-01-19    COMERCIAL      31              ODS25IEHI\n",
       "4       2018-01-18    COMERCIAL      31              ODS25IEHI\n",
       "...            ...          ...     ...                    ...\n",
       "802249  2021-12-12    COMERCIAL       3              G02DCTC9T\n",
       "802250  2021-12-15    COMERCIAL      -1              G02DCTC9T\n",
       "802251  2021-12-23    COMERCIAL      50              G02DCTC9T\n",
       "802252  2021-12-27    COMERCIAL     101              G02DCTC9T\n",
       "802253  2021-12-29    COMERCIAL      74              G02DCTC9T\n",
       "\n",
       "[802254 rows x 4 columns]"
      ]
     },
     "execution_count": 5,
     "metadata": {},
     "output_type": "execute_result"
    }
   ],
   "source": [
    "df_day"
   ]
  },
  {
   "cell_type": "code",
   "execution_count": 6,
   "metadata": {},
   "outputs": [],
   "source": [
    "df_month = df_month.drop(columns='Unnamed: 0')"
   ]
  },
  {
   "cell_type": "code",
   "execution_count": 7,
   "metadata": {},
   "outputs": [
    {
     "data": {
      "text/html": [
       "<div>\n",
       "<style scoped>\n",
       "    .dataframe tbody tr th:only-of-type {\n",
       "        vertical-align: middle;\n",
       "    }\n",
       "\n",
       "    .dataframe tbody tr th {\n",
       "        vertical-align: top;\n",
       "    }\n",
       "\n",
       "    .dataframe thead th {\n",
       "        text-align: right;\n",
       "    }\n",
       "</style>\n",
       "<table border=\"1\" class=\"dataframe\">\n",
       "  <thead>\n",
       "    <tr style=\"text-align: right;\">\n",
       "      <th></th>\n",
       "      <th>Code</th>\n",
       "      <th>Class</th>\n",
       "      <th>Business</th>\n",
       "    </tr>\n",
       "  </thead>\n",
       "  <tbody>\n",
       "    <tr>\n",
       "      <th>0</th>\n",
       "      <td>00VZYC42Y</td>\n",
       "      <td>1</td>\n",
       "      <td>Comerç al detall de medicaments, productes san...</td>\n",
       "    </tr>\n",
       "    <tr>\n",
       "      <th>1</th>\n",
       "      <td>00VZYC42Y</td>\n",
       "      <td>2</td>\n",
       "      <td>Comerç al detall de medicaments, productes san...</td>\n",
       "    </tr>\n",
       "    <tr>\n",
       "      <th>2</th>\n",
       "      <td>00VZYC42Y</td>\n",
       "      <td>3</td>\n",
       "      <td>Comerç al detall de medicaments, productes san...</td>\n",
       "    </tr>\n",
       "    <tr>\n",
       "      <th>3</th>\n",
       "      <td>00VZYC42Y</td>\n",
       "      <td>4</td>\n",
       "      <td>Comerç al detall de medicaments, productes san...</td>\n",
       "    </tr>\n",
       "    <tr>\n",
       "      <th>4</th>\n",
       "      <td>00VZYC42Y</td>\n",
       "      <td>5</td>\n",
       "      <td>Comerç al detall de medicaments, productes san...</td>\n",
       "    </tr>\n",
       "    <tr>\n",
       "      <th>...</th>\n",
       "      <td>...</td>\n",
       "      <td>...</td>\n",
       "      <td>...</td>\n",
       "    </tr>\n",
       "    <tr>\n",
       "      <th>3414</th>\n",
       "      <td>ZYAFGYRAY</td>\n",
       "      <td>2</td>\n",
       "      <td>* material i aparells elèctrics, electrodomèsti</td>\n",
       "    </tr>\n",
       "    <tr>\n",
       "      <th>3415</th>\n",
       "      <td>ZYAFGYRAY</td>\n",
       "      <td>3</td>\n",
       "      <td>* material i aparells elèctrics, electrodomèsti</td>\n",
       "    </tr>\n",
       "    <tr>\n",
       "      <th>3416</th>\n",
       "      <td>ZYAFGYRAY</td>\n",
       "      <td>4</td>\n",
       "      <td>* material i aparells elèctrics, electrodomèsti</td>\n",
       "    </tr>\n",
       "    <tr>\n",
       "      <th>3417</th>\n",
       "      <td>ZYAFGYRAY</td>\n",
       "      <td>5</td>\n",
       "      <td>* material i aparells elèctrics, electrodomèsti</td>\n",
       "    </tr>\n",
       "    <tr>\n",
       "      <th>3418</th>\n",
       "      <td>ZYAFGYRAY</td>\n",
       "      <td>6</td>\n",
       "      <td>* material i aparells elèctrics, electrodomèsti</td>\n",
       "    </tr>\n",
       "  </tbody>\n",
       "</table>\n",
       "<p>3419 rows × 3 columns</p>\n",
       "</div>"
      ],
      "text/plain": [
       "           Code  Class                                           Business\n",
       "0     00VZYC42Y      1  Comerç al detall de medicaments, productes san...\n",
       "1     00VZYC42Y      2  Comerç al detall de medicaments, productes san...\n",
       "2     00VZYC42Y      3  Comerç al detall de medicaments, productes san...\n",
       "3     00VZYC42Y      4  Comerç al detall de medicaments, productes san...\n",
       "4     00VZYC42Y      5  Comerç al detall de medicaments, productes san...\n",
       "...         ...    ...                                                ...\n",
       "3414  ZYAFGYRAY      2    * material i aparells elèctrics, electrodomèsti\n",
       "3415  ZYAFGYRAY      3    * material i aparells elèctrics, electrodomèsti\n",
       "3416  ZYAFGYRAY      4    * material i aparells elèctrics, electrodomèsti\n",
       "3417  ZYAFGYRAY      5    * material i aparells elèctrics, electrodomèsti\n",
       "3418  ZYAFGYRAY      6    * material i aparells elèctrics, electrodomèsti\n",
       "\n",
       "[3419 rows x 3 columns]"
      ]
     },
     "execution_count": 7,
     "metadata": {},
     "output_type": "execute_result"
    }
   ],
   "source": [
    "# Group by 'NUM_CLIENT_ANONIMITZAT' the month dataset.\n",
    "df_month_grouped = df_month.groupby(by=['Code','Class','Business']).count()\n",
    "df_month_grouped.reset_index()"
   ]
  },
  {
   "cell_type": "code",
   "execution_count": 10,
   "metadata": {},
   "outputs": [
    {
     "data": {
      "text/html": [
       "<div>\n",
       "<style scoped>\n",
       "    .dataframe tbody tr th:only-of-type {\n",
       "        vertical-align: middle;\n",
       "    }\n",
       "\n",
       "    .dataframe tbody tr th {\n",
       "        vertical-align: top;\n",
       "    }\n",
       "\n",
       "    .dataframe thead th {\n",
       "        text-align: right;\n",
       "    }\n",
       "</style>\n",
       "<table border=\"1\" class=\"dataframe\">\n",
       "  <thead>\n",
       "    <tr style=\"text-align: right;\">\n",
       "      <th></th>\n",
       "      <th>DATA</th>\n",
       "      <th>TIPUS_CLIENT</th>\n",
       "      <th>CONSUM</th>\n",
       "      <th>NUM_CLIENT_ANONIMITZAT</th>\n",
       "    </tr>\n",
       "  </thead>\n",
       "  <tbody>\n",
       "    <tr>\n",
       "      <th>0</th>\n",
       "      <td>2018-01-29</td>\n",
       "      <td>COMERCIAL</td>\n",
       "      <td>45</td>\n",
       "      <td>T53LK6DQK</td>\n",
       "    </tr>\n",
       "    <tr>\n",
       "      <th>1</th>\n",
       "      <td>2018-01-29</td>\n",
       "      <td>COMERCIAL</td>\n",
       "      <td>45</td>\n",
       "      <td>T53LK6DQK</td>\n",
       "    </tr>\n",
       "    <tr>\n",
       "      <th>2</th>\n",
       "      <td>2018-01-24</td>\n",
       "      <td>COMERCIAL</td>\n",
       "      <td>53</td>\n",
       "      <td>T53LK6DQK</td>\n",
       "    </tr>\n",
       "    <tr>\n",
       "      <th>3</th>\n",
       "      <td>2018-01-24</td>\n",
       "      <td>COMERCIAL</td>\n",
       "      <td>53</td>\n",
       "      <td>T53LK6DQK</td>\n",
       "    </tr>\n",
       "    <tr>\n",
       "      <th>4</th>\n",
       "      <td>2018-01-03</td>\n",
       "      <td>COMERCIAL</td>\n",
       "      <td>46</td>\n",
       "      <td>T53LK6DQK</td>\n",
       "    </tr>\n",
       "    <tr>\n",
       "      <th>...</th>\n",
       "      <td>...</td>\n",
       "      <td>...</td>\n",
       "      <td>...</td>\n",
       "      <td>...</td>\n",
       "    </tr>\n",
       "    <tr>\n",
       "      <th>1781618</th>\n",
       "      <td>2021-12-21</td>\n",
       "      <td>COMERCIAL</td>\n",
       "      <td>248</td>\n",
       "      <td>TJJR395X6</td>\n",
       "    </tr>\n",
       "    <tr>\n",
       "      <th>1781619</th>\n",
       "      <td>2021-12-21</td>\n",
       "      <td>COMERCIAL</td>\n",
       "      <td>248</td>\n",
       "      <td>TJJR395X6</td>\n",
       "    </tr>\n",
       "    <tr>\n",
       "      <th>1781620</th>\n",
       "      <td>2021-12-21</td>\n",
       "      <td>COMERCIAL</td>\n",
       "      <td>248</td>\n",
       "      <td>TJJR395X6</td>\n",
       "    </tr>\n",
       "    <tr>\n",
       "      <th>1781621</th>\n",
       "      <td>2021-12-21</td>\n",
       "      <td>COMERCIAL</td>\n",
       "      <td>248</td>\n",
       "      <td>TJJR395X6</td>\n",
       "    </tr>\n",
       "    <tr>\n",
       "      <th>1781622</th>\n",
       "      <td>2021-12-21</td>\n",
       "      <td>COMERCIAL</td>\n",
       "      <td>248</td>\n",
       "      <td>TJJR395X6</td>\n",
       "    </tr>\n",
       "  </tbody>\n",
       "</table>\n",
       "<p>1781623 rows × 4 columns</p>\n",
       "</div>"
      ],
      "text/plain": [
       "               DATA TIPUS_CLIENT  CONSUM NUM_CLIENT_ANONIMITZAT\n",
       "0        2018-01-29    COMERCIAL      45              T53LK6DQK\n",
       "1        2018-01-29    COMERCIAL      45              T53LK6DQK\n",
       "2        2018-01-24    COMERCIAL      53              T53LK6DQK\n",
       "3        2018-01-24    COMERCIAL      53              T53LK6DQK\n",
       "4        2018-01-03    COMERCIAL      46              T53LK6DQK\n",
       "...             ...          ...     ...                    ...\n",
       "1781618  2021-12-21    COMERCIAL     248              TJJR395X6\n",
       "1781619  2021-12-21    COMERCIAL     248              TJJR395X6\n",
       "1781620  2021-12-21    COMERCIAL     248              TJJR395X6\n",
       "1781621  2021-12-21    COMERCIAL     248              TJJR395X6\n",
       "1781622  2021-12-21    COMERCIAL     248              TJJR395X6\n",
       "\n",
       "[1781623 rows x 4 columns]"
      ]
     },
     "execution_count": 10,
     "metadata": {},
     "output_type": "execute_result"
    }
   ],
   "source": [
    "# Join both datasets:\n",
    "# Let's first  drop columns from df_months that are non-relevant ()\n",
    "df_merged = df_day.merge(df_month_grouped ,left_on='NUM_CLIENT_ANONIMITZAT' ,right_on='Code' ,how=\"inner\" )\n",
    "df_merged"
   ]
  },
  {
   "cell_type": "code",
   "execution_count": 9,
   "metadata": {},
   "outputs": [],
   "source": [
    "list_clients = df_day.NUM_CLIENT_ANONIMITZAT.unique()\n",
    "\n",
    "df_client_consumption = pd.DataFrame(list_clients)\n",
    "\n"
   ]
  },
  {
   "cell_type": "markdown",
   "metadata": {},
   "source": [
    "## PREPROCESS DAILY DATASET\n",
    "Lets's preprocess the daily dataset"
   ]
  },
  {
   "cell_type": "code",
   "execution_count": null,
   "metadata": {},
   "outputs": [],
   "source": []
  }
 ],
 "metadata": {
  "interpreter": {
   "hash": "494e690407c5c7c9b2fbc0a1227ada2e3d821eefed538763ba3356ad470e06f1"
  },
  "kernelspec": {
   "display_name": "Python 3.9.7 ('base')",
   "language": "python",
   "name": "python3"
  },
  "language_info": {
   "codemirror_mode": {
    "name": "ipython",
    "version": 3
   },
   "file_extension": ".py",
   "mimetype": "text/x-python",
   "name": "python",
   "nbconvert_exporter": "python",
   "pygments_lexer": "ipython3",
   "version": "3.9.7"
  },
  "orig_nbformat": 4
 },
 "nbformat": 4,
 "nbformat_minor": 2
}
