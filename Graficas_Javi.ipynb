{
 "cells": [
  {
   "cell_type": "markdown",
   "metadata": {},
   "source": [
    "# Grafiques Javi"
   ]
  },
  {
   "cell_type": "code",
   "execution_count": 1,
   "metadata": {},
   "outputs": [],
   "source": [
    "# Import libraries\n",
    "import pandas as pd\n",
    "import numpy as np\n",
    "import matplotlib.pyplot as plt\n",
    "import seaborn as sns\n",
    "import Pers_lib as Pers"
   ]
  },
  {
   "cell_type": "code",
   "execution_count": 2,
   "metadata": {},
   "outputs": [
    {
     "data": {
      "text/html": [
       "<div>\n",
       "<style scoped>\n",
       "    .dataframe tbody tr th:only-of-type {\n",
       "        vertical-align: middle;\n",
       "    }\n",
       "\n",
       "    .dataframe tbody tr th {\n",
       "        vertical-align: top;\n",
       "    }\n",
       "\n",
       "    .dataframe thead th {\n",
       "        text-align: right;\n",
       "    }\n",
       "</style>\n",
       "<table border=\"1\" class=\"dataframe\">\n",
       "  <thead>\n",
       "    <tr style=\"text-align: right;\">\n",
       "      <th></th>\n",
       "      <th>date</th>\n",
       "      <th>subtotal</th>\n",
       "      <th>tax</th>\n",
       "      <th>total</th>\n",
       "      <th>currency_code</th>\n",
       "      <th>payment.type</th>\n",
       "      <th>bill_to.name</th>\n",
       "      <th>vendor.type</th>\n",
       "      <th>vendor.name</th>\n",
       "      <th>vendor.address</th>\n",
       "    </tr>\n",
       "  </thead>\n",
       "  <tbody>\n",
       "    <tr>\n",
       "      <th>0</th>\n",
       "      <td>2021-09-17 00:00:00</td>\n",
       "      <td>1.16</td>\n",
       "      <td>52.25</td>\n",
       "      <td>1.16</td>\n",
       "      <td>EUR</td>\n",
       "      <td>visa</td>\n",
       "      <td>Alice McCarthy</td>\n",
       "      <td>Catering</td>\n",
       "      <td>HARIBO</td>\n",
       "      <td>Carretera de la Vila 90 C.C. The style Outlets...</td>\n",
       "    </tr>\n",
       "    <tr>\n",
       "      <th>1</th>\n",
       "      <td>2021-09-18 00:00:00</td>\n",
       "      <td>1.16</td>\n",
       "      <td>52.25</td>\n",
       "      <td>1.16</td>\n",
       "      <td>EUR</td>\n",
       "      <td>master_card</td>\n",
       "      <td>Brosina Hoffman</td>\n",
       "      <td>sportswear</td>\n",
       "      <td>GEOGRAPHICAL NORWAY</td>\n",
       "      <td>Carretera de la Vila 90 C.C. The style Outlets...</td>\n",
       "    </tr>\n",
       "    <tr>\n",
       "      <th>2</th>\n",
       "      <td>2021-10-02 00:00:00</td>\n",
       "      <td>1.16</td>\n",
       "      <td>52.25</td>\n",
       "      <td>1.16</td>\n",
       "      <td>EUR</td>\n",
       "      <td>master_card</td>\n",
       "      <td>Brosina Hoffman</td>\n",
       "      <td>sportswear</td>\n",
       "      <td>GEOGRAPHICAL NORWAY</td>\n",
       "      <td>Carretera de la Vila 90 C.C. The style Outlets...</td>\n",
       "    </tr>\n",
       "    <tr>\n",
       "      <th>3</th>\n",
       "      <td>2021-09-23 00:00:00</td>\n",
       "      <td>1.16</td>\n",
       "      <td>52.25</td>\n",
       "      <td>1.16</td>\n",
       "      <td>EUR</td>\n",
       "      <td>cash</td>\n",
       "      <td>Cyma Kinney</td>\n",
       "      <td>footwear</td>\n",
       "      <td>CONVERSE</td>\n",
       "      <td>Carretera de la Vila 90 C.C. The style Outlets...</td>\n",
       "    </tr>\n",
       "    <tr>\n",
       "      <th>4</th>\n",
       "      <td>2021-09-08 00:00:00</td>\n",
       "      <td>1.16</td>\n",
       "      <td>52.25</td>\n",
       "      <td>1.16</td>\n",
       "      <td>EUR</td>\n",
       "      <td>visa</td>\n",
       "      <td>Darrin Martin</td>\n",
       "      <td>mixed clothing</td>\n",
       "      <td>MARINA MILITARE</td>\n",
       "      <td>Carretera de la Vila 90 C.C. The style Outlets...</td>\n",
       "    </tr>\n",
       "  </tbody>\n",
       "</table>\n",
       "</div>"
      ],
      "text/plain": [
       "                  date  subtotal    tax  total currency_code payment.type  \\\n",
       "0  2021-09-17 00:00:00      1.16  52.25   1.16           EUR         visa   \n",
       "1  2021-09-18 00:00:00      1.16  52.25   1.16           EUR  master_card   \n",
       "2  2021-10-02 00:00:00      1.16  52.25   1.16           EUR  master_card   \n",
       "3  2021-09-23 00:00:00      1.16  52.25   1.16           EUR         cash   \n",
       "4  2021-09-08 00:00:00      1.16  52.25   1.16           EUR         visa   \n",
       "\n",
       "      bill_to.name     vendor.type          vendor.name  \\\n",
       "0   Alice McCarthy        Catering               HARIBO   \n",
       "1  Brosina Hoffman      sportswear  GEOGRAPHICAL NORWAY   \n",
       "2  Brosina Hoffman      sportswear  GEOGRAPHICAL NORWAY   \n",
       "3      Cyma Kinney        footwear             CONVERSE   \n",
       "4    Darrin Martin  mixed clothing      MARINA MILITARE   \n",
       "\n",
       "                                      vendor.address  \n",
       "0  Carretera de la Vila 90 C.C. The style Outlets...  \n",
       "1  Carretera de la Vila 90 C.C. The style Outlets...  \n",
       "2  Carretera de la Vila 90 C.C. The style Outlets...  \n",
       "3  Carretera de la Vila 90 C.C. The style Outlets...  \n",
       "4  Carretera de la Vila 90 C.C. The style Outlets...  "
      ]
     },
     "execution_count": 2,
     "metadata": {},
     "output_type": "execute_result"
    }
   ],
   "source": [
    "df_tickets = pd.read_csv('tiksDS.csv')\n",
    "df_tickets = df_tickets.drop(columns=\"Unnamed: 0\")\n",
    "df_tickets.head()"
   ]
  },
  {
   "cell_type": "code",
   "execution_count": 3,
   "metadata": {},
   "outputs": [
    {
     "name": "stdout",
     "output_type": "stream",
     "text": [
      "<class 'pandas.core.frame.DataFrame'>\n",
      "RangeIndex: 3704 entries, 0 to 3703\n",
      "Data columns (total 10 columns):\n",
      " #   Column          Non-Null Count  Dtype  \n",
      "---  ------          --------------  -----  \n",
      " 0   date            3704 non-null   object \n",
      " 1   subtotal        3704 non-null   float64\n",
      " 2   tax             3704 non-null   float64\n",
      " 3   total           3704 non-null   float64\n",
      " 4   currency_code   3704 non-null   object \n",
      " 5   payment.type    3704 non-null   object \n",
      " 6   bill_to.name    3704 non-null   object \n",
      " 7   vendor.type     3704 non-null   object \n",
      " 8   vendor.name     3704 non-null   object \n",
      " 9   vendor.address  3704 non-null   object \n",
      "dtypes: float64(3), object(7)\n",
      "memory usage: 289.5+ KB\n"
     ]
    }
   ],
   "source": [
    "#Type Adaptation\n",
    "df_tickets.info()"
   ]
  },
  {
   "cell_type": "code",
   "execution_count": 4,
   "metadata": {},
   "outputs": [],
   "source": [
    "## Split\n",
    "df_tickets[['Day','Hour']] = df_tickets.date.str.split(' ', 1, expand=True)\n",
    "df_tickets = df_tickets.drop(columns=['date','Hour'])"
   ]
  },
  {
   "cell_type": "code",
   "execution_count": 5,
   "metadata": {},
   "outputs": [
    {
     "name": "stdout",
     "output_type": "stream",
     "text": [
      "<class 'pandas.core.frame.DataFrame'>\n",
      "RangeIndex: 3704 entries, 0 to 3703\n",
      "Data columns (total 10 columns):\n",
      " #   Column          Non-Null Count  Dtype         \n",
      "---  ------          --------------  -----         \n",
      " 0   subtotal        3704 non-null   float64       \n",
      " 1   tax             3704 non-null   float64       \n",
      " 2   total           3704 non-null   float64       \n",
      " 3   currency_code   3704 non-null   object        \n",
      " 4   payment.type    3704 non-null   object        \n",
      " 5   bill_to.name    3704 non-null   object        \n",
      " 6   vendor.type     3704 non-null   object        \n",
      " 7   vendor.name     3704 non-null   object        \n",
      " 8   vendor.address  3704 non-null   object        \n",
      " 9   Day             3704 non-null   datetime64[ns]\n",
      "dtypes: datetime64[ns](1), float64(3), object(6)\n",
      "memory usage: 289.5+ KB\n"
     ]
    }
   ],
   "source": [
    "df_tickets['Day'] = pd.to_datetime(df_tickets['Day'])\n",
    "df_tickets.info()"
   ]
  },
  {
   "cell_type": "code",
   "execution_count": 6,
   "metadata": {},
   "outputs": [
    {
     "name": "stdout",
     "output_type": "stream",
     "text": [
      "<class 'pandas.core.frame.DataFrame'>\n",
      "RangeIndex: 3704 entries, 0 to 3703\n",
      "Data columns (total 10 columns):\n",
      " #   Column          Non-Null Count  Dtype         \n",
      "---  ------          --------------  -----         \n",
      " 0   subtotal        3704 non-null   float64       \n",
      " 1   tax             3704 non-null   float64       \n",
      " 2   total           3704 non-null   float64       \n",
      " 3   currency_code   3704 non-null   category      \n",
      " 4   payment.type    3704 non-null   category      \n",
      " 5   bill_to.name    3704 non-null   category      \n",
      " 6   vendor.type     3704 non-null   category      \n",
      " 7   vendor.name     3704 non-null   category      \n",
      " 8   vendor.address  3704 non-null   category      \n",
      " 9   Day             3704 non-null   datetime64[ns]\n",
      "dtypes: category(6), datetime64[ns](1), float64(3)\n",
      "memory usage: 177.0 KB\n"
     ]
    }
   ],
   "source": [
    "cols = ['currency_code', 'payment.type', 'bill_to.name', 'vendor.type','vendor.name','vendor.address']\n",
    "df_tickets[cols] = df_tickets[cols].astype('category')\n",
    "df_tickets.info()"
   ]
  },
  {
   "cell_type": "code",
   "execution_count": 7,
   "metadata": {},
   "outputs": [
    {
     "name": "stdout",
     "output_type": "stream",
     "text": [
      "[-------------------------SHAPE------------------------]\n"
     ]
    },
    {
     "data": {
      "text/plain": [
       "(3704, 10)"
      ]
     },
     "metadata": {},
     "output_type": "display_data"
    },
    {
     "name": "stdout",
     "output_type": "stream",
     "text": [
      "[-------------------------INFO-------------------------]\n",
      "<class 'pandas.core.frame.DataFrame'>\n",
      "RangeIndex: 3704 entries, 0 to 3703\n",
      "Data columns (total 10 columns):\n",
      " #   Column          Non-Null Count  Dtype         \n",
      "---  ------          --------------  -----         \n",
      " 0   subtotal        3704 non-null   float64       \n",
      " 1   tax             3704 non-null   float64       \n",
      " 2   total           3704 non-null   float64       \n",
      " 3   currency_code   3704 non-null   category      \n",
      " 4   payment.type    3704 non-null   category      \n",
      " 5   bill_to.name    3704 non-null   category      \n",
      " 6   vendor.type     3704 non-null   category      \n",
      " 7   vendor.name     3704 non-null   category      \n",
      " 8   vendor.address  3704 non-null   category      \n",
      " 9   Day             3704 non-null   datetime64[ns]\n",
      "dtypes: category(6), datetime64[ns](1), float64(3)\n",
      "memory usage: 177.0 KB\n"
     ]
    },
    {
     "data": {
      "text/plain": [
       "None"
      ]
     },
     "metadata": {},
     "output_type": "display_data"
    },
    {
     "name": "stdout",
     "output_type": "stream",
     "text": [
      "[-----------------------DESCRIBE-----------------------]\n"
     ]
    },
    {
     "data": {
      "text/html": [
       "<div>\n",
       "<style scoped>\n",
       "    .dataframe tbody tr th:only-of-type {\n",
       "        vertical-align: middle;\n",
       "    }\n",
       "\n",
       "    .dataframe tbody tr th {\n",
       "        vertical-align: top;\n",
       "    }\n",
       "\n",
       "    .dataframe thead th {\n",
       "        text-align: right;\n",
       "    }\n",
       "</style>\n",
       "<table border=\"1\" class=\"dataframe\">\n",
       "  <thead>\n",
       "    <tr style=\"text-align: right;\">\n",
       "      <th></th>\n",
       "      <th>subtotal</th>\n",
       "      <th>tax</th>\n",
       "      <th>total</th>\n",
       "      <th>currency_code</th>\n",
       "      <th>payment.type</th>\n",
       "      <th>bill_to.name</th>\n",
       "      <th>vendor.type</th>\n",
       "      <th>vendor.name</th>\n",
       "      <th>vendor.address</th>\n",
       "      <th>Day</th>\n",
       "    </tr>\n",
       "  </thead>\n",
       "  <tbody>\n",
       "    <tr>\n",
       "      <th>count</th>\n",
       "      <td>3704.00</td>\n",
       "      <td>3704.00</td>\n",
       "      <td>3704.00</td>\n",
       "      <td>3704</td>\n",
       "      <td>3704</td>\n",
       "      <td>3704</td>\n",
       "      <td>3704</td>\n",
       "      <td>3704</td>\n",
       "      <td>3704</td>\n",
       "      <td>3704</td>\n",
       "    </tr>\n",
       "    <tr>\n",
       "      <th>unique</th>\n",
       "      <td>NaN</td>\n",
       "      <td>NaN</td>\n",
       "      <td>NaN</td>\n",
       "      <td>13</td>\n",
       "      <td>3</td>\n",
       "      <td>764</td>\n",
       "      <td>36</td>\n",
       "      <td>158</td>\n",
       "      <td>73</td>\n",
       "      <td>NaN</td>\n",
       "    </tr>\n",
       "    <tr>\n",
       "      <th>top</th>\n",
       "      <td>NaN</td>\n",
       "      <td>NaN</td>\n",
       "      <td>NaN</td>\n",
       "      <td>EUR</td>\n",
       "      <td>visa</td>\n",
       "      <td>Zuschuss Carroll</td>\n",
       "      <td>mixed clothing</td>\n",
       "      <td>GUESS</td>\n",
       "      <td>Carretera de la Vila 90 C.C. The style Outlets...</td>\n",
       "      <td>NaN</td>\n",
       "    </tr>\n",
       "    <tr>\n",
       "      <th>freq</th>\n",
       "      <td>NaN</td>\n",
       "      <td>NaN</td>\n",
       "      <td>NaN</td>\n",
       "      <td>3602</td>\n",
       "      <td>2811</td>\n",
       "      <td>23</td>\n",
       "      <td>687</td>\n",
       "      <td>50</td>\n",
       "      <td>3573</td>\n",
       "      <td>NaN</td>\n",
       "    </tr>\n",
       "    <tr>\n",
       "      <th>mean</th>\n",
       "      <td>638.38</td>\n",
       "      <td>81.81</td>\n",
       "      <td>687.71</td>\n",
       "      <td>NaN</td>\n",
       "      <td>NaN</td>\n",
       "      <td>NaN</td>\n",
       "      <td>NaN</td>\n",
       "      <td>NaN</td>\n",
       "      <td>NaN</td>\n",
       "      <td>2021-01-27 21:09:19.827213824</td>\n",
       "    </tr>\n",
       "    <tr>\n",
       "      <th>min</th>\n",
       "      <td>1.16</td>\n",
       "      <td>0.26</td>\n",
       "      <td>1.16</td>\n",
       "      <td>NaN</td>\n",
       "      <td>NaN</td>\n",
       "      <td>NaN</td>\n",
       "      <td>NaN</td>\n",
       "      <td>NaN</td>\n",
       "      <td>NaN</td>\n",
       "      <td>2009-01-23 00:00:00</td>\n",
       "    </tr>\n",
       "    <tr>\n",
       "      <th>25%</th>\n",
       "      <td>10.72</td>\n",
       "      <td>2.13</td>\n",
       "      <td>11.95</td>\n",
       "      <td>NaN</td>\n",
       "      <td>NaN</td>\n",
       "      <td>NaN</td>\n",
       "      <td>NaN</td>\n",
       "      <td>NaN</td>\n",
       "      <td>NaN</td>\n",
       "      <td>2021-03-24 18:00:00</td>\n",
       "    </tr>\n",
       "    <tr>\n",
       "      <th>50%</th>\n",
       "      <td>19.34</td>\n",
       "      <td>5.36</td>\n",
       "      <td>20.60</td>\n",
       "      <td>NaN</td>\n",
       "      <td>NaN</td>\n",
       "      <td>NaN</td>\n",
       "      <td>NaN</td>\n",
       "      <td>NaN</td>\n",
       "      <td>NaN</td>\n",
       "      <td>2021-12-22 00:00:00</td>\n",
       "    </tr>\n",
       "    <tr>\n",
       "      <th>75%</th>\n",
       "      <td>75.00</td>\n",
       "      <td>18.27</td>\n",
       "      <td>100.00</td>\n",
       "      <td>NaN</td>\n",
       "      <td>NaN</td>\n",
       "      <td>NaN</td>\n",
       "      <td>NaN</td>\n",
       "      <td>NaN</td>\n",
       "      <td>NaN</td>\n",
       "      <td>2022-03-26 00:00:00</td>\n",
       "    </tr>\n",
       "    <tr>\n",
       "      <th>max</th>\n",
       "      <td>26710.00</td>\n",
       "      <td>2613.25</td>\n",
       "      <td>29313.25</td>\n",
       "      <td>NaN</td>\n",
       "      <td>NaN</td>\n",
       "      <td>NaN</td>\n",
       "      <td>NaN</td>\n",
       "      <td>NaN</td>\n",
       "      <td>NaN</td>\n",
       "      <td>2022-12-30 00:00:00</td>\n",
       "    </tr>\n",
       "    <tr>\n",
       "      <th>std</th>\n",
       "      <td>3016.91</td>\n",
       "      <td>350.99</td>\n",
       "      <td>3247.00</td>\n",
       "      <td>NaN</td>\n",
       "      <td>NaN</td>\n",
       "      <td>NaN</td>\n",
       "      <td>NaN</td>\n",
       "      <td>NaN</td>\n",
       "      <td>NaN</td>\n",
       "      <td>NaN</td>\n",
       "    </tr>\n",
       "  </tbody>\n",
       "</table>\n",
       "</div>"
      ],
      "text/plain": [
       "        subtotal      tax     total currency_code payment.type  \\\n",
       "count    3704.00  3704.00   3704.00          3704         3704   \n",
       "unique       NaN      NaN       NaN            13            3   \n",
       "top          NaN      NaN       NaN           EUR         visa   \n",
       "freq         NaN      NaN       NaN          3602         2811   \n",
       "mean      638.38    81.81    687.71           NaN          NaN   \n",
       "min         1.16     0.26      1.16           NaN          NaN   \n",
       "25%        10.72     2.13     11.95           NaN          NaN   \n",
       "50%        19.34     5.36     20.60           NaN          NaN   \n",
       "75%        75.00    18.27    100.00           NaN          NaN   \n",
       "max     26710.00  2613.25  29313.25           NaN          NaN   \n",
       "std      3016.91   350.99   3247.00           NaN          NaN   \n",
       "\n",
       "            bill_to.name     vendor.type vendor.name  \\\n",
       "count               3704            3704        3704   \n",
       "unique               764              36         158   \n",
       "top     Zuschuss Carroll  mixed clothing       GUESS   \n",
       "freq                  23             687          50   \n",
       "mean                 NaN             NaN         NaN   \n",
       "min                  NaN             NaN         NaN   \n",
       "25%                  NaN             NaN         NaN   \n",
       "50%                  NaN             NaN         NaN   \n",
       "75%                  NaN             NaN         NaN   \n",
       "max                  NaN             NaN         NaN   \n",
       "std                  NaN             NaN         NaN   \n",
       "\n",
       "                                           vendor.address  \\\n",
       "count                                                3704   \n",
       "unique                                                 73   \n",
       "top     Carretera de la Vila 90 C.C. The style Outlets...   \n",
       "freq                                                 3573   \n",
       "mean                                                  NaN   \n",
       "min                                                   NaN   \n",
       "25%                                                   NaN   \n",
       "50%                                                   NaN   \n",
       "75%                                                   NaN   \n",
       "max                                                   NaN   \n",
       "std                                                   NaN   \n",
       "\n",
       "                                  Day  \n",
       "count                            3704  \n",
       "unique                            NaN  \n",
       "top                               NaN  \n",
       "freq                              NaN  \n",
       "mean    2021-01-27 21:09:19.827213824  \n",
       "min               2009-01-23 00:00:00  \n",
       "25%               2021-03-24 18:00:00  \n",
       "50%               2021-12-22 00:00:00  \n",
       "75%               2022-03-26 00:00:00  \n",
       "max               2022-12-30 00:00:00  \n",
       "std                               NaN  "
      ]
     },
     "metadata": {},
     "output_type": "display_data"
    },
    {
     "name": "stdout",
     "output_type": "stream",
     "text": [
      "[------------------------NaN's-------------------------]\n"
     ]
    },
    {
     "data": {
      "text/plain": [
       "subtotal          0\n",
       "tax               0\n",
       "total             0\n",
       "currency_code     0\n",
       "payment.type      0\n",
       "bill_to.name      0\n",
       "vendor.type       0\n",
       "vendor.name       0\n",
       "vendor.address    0\n",
       "Day               0\n",
       "dtype: int64"
      ]
     },
     "metadata": {},
     "output_type": "display_data"
    },
    {
     "name": "stdout",
     "output_type": "stream",
     "text": [
      "[--------------Values in categorical variables---------]\n",
      "------------------currency_code-------------------\n",
      "------------Unique Values--------------\n",
      "Number of unique values is: 13\n",
      "['EUR', 'USD', 'GBP', 'MYR', 'AUD', ..., 'AED', 'MXN', 'PLN', 'COP', 'HKD']\n",
      "Length: 13\n",
      "Categories (13, object): ['AED', 'AUD', 'CAD', 'COP', ..., 'MYR', 'PEN', 'PLN', 'USD']\n",
      "------------Value Counts--------------\n"
     ]
    },
    {
     "data": {
      "text/plain": [
       "EUR    3602\n",
       "USD      61\n",
       "GBP      13\n",
       "CAD       4\n",
       "DKK       4\n",
       "MXN       4\n",
       "AUD       3\n",
       "COP       3\n",
       "HKD       3\n",
       "PLN       3\n",
       "PEN       2\n",
       "AED       1\n",
       "MYR       1\n",
       "Name: currency_code, dtype: int64"
      ]
     },
     "metadata": {},
     "output_type": "display_data"
    },
    {
     "name": "stdout",
     "output_type": "stream",
     "text": [
      "------------------payment.type-------------------\n",
      "------------Unique Values--------------\n",
      "Number of unique values is: 3\n",
      "['visa', 'master_card', 'cash']\n",
      "Categories (3, object): ['cash', 'master_card', 'visa']\n",
      "------------Value Counts--------------\n"
     ]
    },
    {
     "data": {
      "text/plain": [
       "visa           2811\n",
       "master_card     756\n",
       "cash            137\n",
       "Name: payment.type, dtype: int64"
      ]
     },
     "metadata": {},
     "output_type": "display_data"
    },
    {
     "name": "stdout",
     "output_type": "stream",
     "text": [
      "------------------bill_to.name-------------------\n",
      "------------Unique Values--------------\n",
      "Number of unique values is: 764\n",
      "['Alice McCarthy', 'Brosina Hoffman', 'Cyma Kinney', 'Darrin Martin', 'Erica Hackney', ..., 'Vicky Freymann', 'Vivek Gonzalez', 'Vivek Grady', 'William Brown', 'Yana Sorensen']\n",
      "Length: 764\n",
      "Categories (764, object): ['31 Stephane', 'A BARCELONETA', 'APT. SALESPERSON', 'ATENDU PUR: Karon', ..., 'Zuschuss Carroll', 'Zuschuss Donatelli', 'conventent and GREEN', 'stewart capps']\n",
      "------------Value Counts--------------\n"
     ]
    },
    {
     "data": {
      "text/plain": [
       "Zuschuss Carroll    23\n",
       "Brian Moss          23\n",
       "Tracy Blumstein     21\n",
       "Stefania Perrino    19\n",
       "Tamara Dahlen       18\n",
       "                    ..\n",
       "Ralph Ritter         1\n",
       "Eric Murdock         1\n",
       "Ricardo Sperren      1\n",
       "Richard Eichhorn     1\n",
       "31 Stephane          1\n",
       "Name: bill_to.name, Length: 764, dtype: int64"
      ]
     },
     "metadata": {},
     "output_type": "display_data"
    },
    {
     "name": "stdout",
     "output_type": "stream",
     "text": [
      "------------------vendor.type-------------------\n",
      "------------Unique Values--------------\n",
      "Number of unique values is: 36\n",
      "['Catering', 'sportswear', 'footwear', 'mixed clothing', 'women's underwear', ..., 'Auto Parts', 'Utilities', 'Electronics Store', 'store', 'department_store,clothing_store,store']\n",
      "Length: 36\n",
      "Categories (36, object): ['Auto Parts', 'Catering', 'Coffee', 'Department Store', ..., 'supermarket,grocery_or_supermarket,food,store', 'women's clothing', 'women's clothing,men's clothing', 'women's underwear']\n",
      "------------Value Counts--------------\n"
     ]
    },
    {
     "data": {
      "text/plain": [
       "mixed clothing                                   687\n",
       "footwear                                         545\n",
       "sportswear                                       410\n",
       "Restaurant                                       384\n",
       "men's clothing                                   322\n",
       "women's clothing                                 313\n",
       "accessories                                      281\n",
       "home_goods                                       138\n",
       "women's underwear                                137\n",
       "cosmetic                                         136\n",
       "Catering                                         135\n",
       "jewelry                                           51\n",
       "mixed clothing, sportswear, outdoor               45\n",
       "kid's clothing                                    45\n",
       "Grocery                                           12\n",
       "supermarket,grocery_or_supermarket,food,store      8\n",
       "Fuel                                               8\n",
       "department store                                   6\n",
       "drugstore                                          5\n",
       "Department Store                                   5\n",
       "department_store,clothing_store,store              4\n",
       "pet supplies store                                 3\n",
       "store                                              3\n",
       "women's clothing,men's clothing                    3\n",
       "Auto Parts                                         3\n",
       "Taxi                                               3\n",
       "Electronics Store                                  3\n",
       "medical center                                     1\n",
       "department stores                                  1\n",
       "Utilities                                          1\n",
       "museum,library,tourist_attraction                  1\n",
       "Restaurant,food                                    1\n",
       "Pizza                                              1\n",
       "Movie Theater                                      1\n",
       "Coffee                                             1\n",
       "department_store,home_goods_store,store            1\n",
       "Name: vendor.type, dtype: int64"
      ]
     },
     "metadata": {},
     "output_type": "display_data"
    },
    {
     "name": "stdout",
     "output_type": "stream",
     "text": [
      "------------------vendor.name-------------------\n",
      "------------Unique Values--------------\n",
      "Number of unique values is: 158\n",
      "['HARIBO', 'GEOGRAPHICAL NORWAY', 'CONVERSE', 'MARINA MILITARE', 'VANITY FAIR', ..., 'Supreme', 'Nordstrom Chinook Centre', 'Sherman Sherman Johnnie & Hoyt, LLP', 'Galeries Lafayette Haussmann', 'Tiffany & Co.']\n",
      "Length: 158\n",
      "Categories (158, object): ['ADIDAS/REEBOK', 'ADOLFO DOMÍNGUEZ', 'ALVARO MORENO', 'Adidas', ..., 'Walgreens', 'Walmart', 'Yves Saint Laurent', 'Zara']\n",
      "------------Value Counts--------------\n"
     ]
    },
    {
     "data": {
      "text/plain": [
       "GUESS                      50\n",
       "LA MALLORQUINA             48\n",
       "SANTA GLORIA               48\n",
       "JAVIER SIMORRA             48\n",
       "UDON                       48\n",
       "                           ..\n",
       "Kiseki                      1\n",
       "Dayton Bisruit Co.          1\n",
       "Benugo @ British Museum     1\n",
       "Carrefour Express           1\n",
       "Fish & Chips                1\n",
       "Name: vendor.name, Length: 158, dtype: int64"
      ]
     },
     "metadata": {},
     "output_type": "display_data"
    },
    {
     "name": "stdout",
     "output_type": "stream",
     "text": [
      "------------------vendor.address-------------------\n",
      "------------Unique Values--------------\n",
      "Number of unique values is: 73\n",
      "['Carretera de la Vila 90 C.C. The style Outlet..., '12940 Saratoga Sunnyvale Rd, Saratoga, CA, 95..., '17447 Haggerty Rd, Northville, MI, 48168, US', 'Kurfürstendamm 20-24', 'San Pedro Kalea 33, 20110 Pasaia, Gipuzkoa, S..., ..., '6455 MacLeod Trai? S#\\nUnit #', 'C/ STA.TERESA, 40 SANT CUGAT\\nNIF', '693 Chemeketa St NE, Salem, OR 97301, United ..., '40 Bd Haussmann, 75009 Paris, France', '4101']\n",
      "Length: 73\n",
      "Categories (73, object): ['08011, Barcelona, Barcelona, Spain', '100 BULLA RD\\nSTRATHMORE VIC 3041', '1071 BR, Amsterdam, North Holland, Netherlands', '11 Rue D'Amsterdam, Gare Sncf Saint Lazare, 7..., ..., 'San Pedro Kalea 33, 20110 Pasaia, Gipuzkoa, S..., 'Shopping City Süd Top 23 / Galerie 149, 2334 ..., 'Unit 109/110, Village, 50 Pingle Dr, Bicester..., 'Vlamingstraat 2, Bruges, West Flanders, 8000,...]\n",
      "------------Value Counts--------------\n"
     ]
    },
    {
     "data": {
      "text/plain": [
       "Carretera de la Vila 90 C.C. The style Outlets, local 62, 63, 08840 Viladecans, Barcelona, Spain    3573\n",
       "08011, Barcelona, Barcelona, Spain                                                                     5\n",
       "1071 BR, Amsterdam, North Holland, Netherlands                                                         4\n",
       "Carrer Can Bronca, 2, 07007 Palma, Illes Balears, Espanya                                              4\n",
       "40 Bd Haussmann, 75009 Paris, France                                                                   4\n",
       "                                                                                                    ... \n",
       "Av. de la Arboleda, 32, 41940 Tomares, Sevilla, Spain                                                  1\n",
       "Avda dos Hermanas, Urb Benamara,, Crta. Cádiz - Málaga Km 167, 29680 Estepona, Málaga, Spain           1\n",
       "Bailén, 4, 46007 Valencia Comunidad Valenciana, España                                                 1\n",
       "C. de Alfonso XII, 28, 28014 Madrid, España                                                            1\n",
       "Vlamingstraat 2, Bruges, West Flanders, 8000, BE                                                       1\n",
       "Name: vendor.address, Length: 73, dtype: int64"
      ]
     },
     "metadata": {},
     "output_type": "display_data"
    }
   ],
   "source": [
    "Pers.df_info(df_tickets)"
   ]
  },
  {
   "cell_type": "code",
   "execution_count": 8,
   "metadata": {},
   "outputs": [
    {
     "data": {
      "text/plain": [
       "mixed clothing       687\n",
       "footwear             545\n",
       "sportswear           410\n",
       "Restaurant           384\n",
       "men's clothing       322\n",
       "women's clothing     313\n",
       "accessories          281\n",
       "home_goods           138\n",
       "women's underwear    137\n",
       "cosmetic             136\n",
       "Catering             135\n",
       "Name: vendor.type, dtype: int64"
      ]
     },
     "execution_count": 8,
     "metadata": {},
     "output_type": "execute_result"
    }
   ],
   "source": [
    "CountVtype = df_tickets['vendor.type'].value_counts()\n",
    "CountVtype.values >100\n",
    "CountVtype = CountVtype[CountVtype.values >100]\n",
    "CountVtype"
   ]
  },
  {
   "cell_type": "code",
   "execution_count": 10,
   "metadata": {},
   "outputs": [
    {
     "data": {
      "text/plain": [
       "ROCKPORT           7\n",
       "ECCO               4\n",
       "MUNICH             3\n",
       "CAMPER             2\n",
       "CALZEDONIA         2\n",
       "BURGER KING        1\n",
       "CARTE D'OR         1\n",
       "MARINA MILITARE    1\n",
       "RIP CURL           1\n",
       "NAUTICA            1\n",
       "Name: vendor.name, dtype: int64"
      ]
     },
     "execution_count": 10,
     "metadata": {},
     "output_type": "execute_result"
    }
   ],
   "source": [
    "CountVnameBM = df_ticketsBM['vendor.name'].value_counts()\n",
    "CountVnameBM.values >100\n",
    "CountVnameBM = CountVnameBM[CountVnameBM.values >0]\n",
    "CountVnameBM\n"
   ]
  },
  {
   "cell_type": "code",
   "execution_count": 15,
   "metadata": {},
   "outputs": [],
   "source": [
    "labels=list(CountVnameBM.index)\n",
    "values=list(CountVnameBM.values)\n",
    "labels = list(reversed(labels))\n",
    "values = list(reversed(values))"
   ]
  },
  {
   "cell_type": "code",
   "execution_count": 18,
   "metadata": {},
   "outputs": [
    {
     "data": {
      "text/plain": [
       "Text(0.5, 1.45, 'Usuario Brian Moss compras x vendedor')"
      ]
     },
     "execution_count": 18,
     "metadata": {},
     "output_type": "execute_result"
    },
    {
     "data": {
      "image/png": "[encoded data removed]",
      "text/plain": [
       "<Figure size 432x288 with 1 Axes>"
      ]
     },
     "metadata": {},
     "output_type": "display_data"
    }
   ],
   "source": [
    "import random\n",
    "fig, ax = plt.subplots( nrows=1, ncols=1 )\n",
    "#explode_0 = list(reversed([1,2,3,4,5,6,7,8,9,10,11,12,13,14,15,16,17,18,19,22])) \n",
    "explode_0 = list(reversed([1,2,3,4,5,6,7,8,9,10])) \n",
    "\n",
    "def aleatColors(numberColors): #genera variació de colors amb certa varieta, es pot jugar amb a / b / c\n",
    "    listColors=[]\n",
    "    for i in range(0,numberColors):\n",
    "        listColors.append([0,0,0])\n",
    "        a,b,c=random.random(),random.random(),random.random()\n",
    "        listColors[i][0]=((1/numberColors)*i)*0.9\n",
    "        listColors[i][1]=0.8\n",
    "        listColors[i][2]=0.7\n",
    "    return listColors\n",
    "\n",
    "colors= aleatColors(10)        \n",
    "explode =list( map(lambda x: x *0.12, explode_0))\n",
    "ax.figsize=(0,0)\n",
    "ax.axis('off')\n",
    "fontdict_1 = {'family': 'serif','color':  'darkblue','weight': 'normal', 'size': 20, 'style':'oblique'}\n",
    "fontdict_2 = {'family': 'serif','color':  'black','weight': 'normal', 'size': 12, 'style':'oblique'}#Estil dels títols\n",
    "ax.pie(values,center=(-1,-1),explode = explode,shadow=True, labels = labels,radius=1.8, autopct = '%1.2f%%',colors=colors,textprops =fontdict_2,pctdistance=0.7 )\n",
    "ax.set_title(\"Usuario Brian Moss compras x vendedor\", y=1.45, pad=35,fontdict=fontdict_1)"
   ]
  },
  {
   "cell_type": "code",
   "execution_count": 19,
   "metadata": {},
   "outputs": [
    {
     "data": {
      "text/plain": [
       "footwear             16\n",
       "mixed clothing        3\n",
       "women's underwear     2\n",
       "Restaurant            2\n",
       "Name: vendor.type, dtype: int64"
      ]
     },
     "execution_count": 19,
     "metadata": {},
     "output_type": "execute_result"
    }
   ],
   "source": [
    "df_ticketsBM = df_tickets[df_tickets['bill_to.name'] == 'Brian Moss']\n",
    "CountVtypeBM = df_ticketsBM['vendor.type'].value_counts()\n",
    "CountVtypeBM.values >100\n",
    "CountVtypeBM = CountVtypeBM[CountVtypeBM.values >0]\n",
    "CountVtypeBM"
   ]
  },
  {
   "cell_type": "code",
   "execution_count": 31,
   "metadata": {},
   "outputs": [
    {
     "data": {
      "text/plain": [
       "Text(0.7, 1.45, 'User Brian Moss Purchases x sector')"
      ]
     },
     "execution_count": 31,
     "metadata": {},
     "output_type": "execute_result"
    },
    {
     "data": {
      "image/png": "[encoded data removed]",
      "text/plain": [
       "<Figure size 432x288 with 1 Axes>"
      ]
     },
     "metadata": {},
     "output_type": "display_data"
    }
   ],
   "source": [
    "labels=list(CountVtypeBM.index)\n",
    "values=list(CountVtypeBM.values)\n",
    "labels = list(reversed(labels))\n",
    "values = list(reversed(values))\n",
    "\n",
    "fig, ax = plt.subplots( nrows=1, ncols=1 )\n",
    "#explode_0 = list(reversed([1,2,3,4,5,6,7,8,9,10,11,12,13,14,15,16,17,18,19,22])) \n",
    "explode_0 = list(reversed([1,2,3,4])) \n",
    "\n",
    "def aleatColors(numberColors): #genera variació de colors amb certa varieta, es pot jugar amb a / b / c\n",
    "    listColors=[]\n",
    "    for i in range(0,numberColors):\n",
    "        listColors.append([0,0,0])\n",
    "        a,b,c=random.random(),random.random(),random.random()\n",
    "        listColors[i][0]=((1/numberColors)*i)*0.9\n",
    "        listColors[i][1]=0.8\n",
    "        listColors[i][2]=0.7\n",
    "    return listColors\n",
    "\n",
    "colors= aleatColors(4)        \n",
    "explode =list( map(lambda x: x *0.12, explode_0))\n",
    "ax.figsize=(0,0)\n",
    "ax.axis('off')\n",
    "fontdict_1 = {'family': 'serif','color':  'darkblue','weight': 'normal', 'size': 20, 'style':'oblique'}\n",
    "fontdict_2 = {'family': 'serif','color':  'black','weight': 'normal', 'size': 12, 'style':'oblique'}#Estil dels títols\n",
    "ax.pie(values,center=(-1,-1),explode = explode,shadow=True, labels = labels,radius=1.8, autopct = '%1.2f%%',colors=colors,textprops =fontdict_2,pctdistance=0.7 )\n",
    "ax.set_title(\"User Brian Moss Purchases x sector\", x= 0.7, y=1.45, pad=5,fontdict=fontdict_1)"
   ]
  }
 ],
 "metadata": {
  "interpreter": {
   "hash": "494e690407c5c7c9b2fbc0a1227ada2e3d821eefed538763ba3356ad470e06f1"
  },
  "kernelspec": {
   "display_name": "Python 3.9.7 ('base')",
   "language": "python",
   "name": "python3"
  },
  "language_info": {
   "codemirror_mode": {
    "name": "ipython",
    "version": 3
   },
   "file_extension": ".py",
   "mimetype": "text/x-python",
   "name": "python",
   "nbconvert_exporter": "python",
   "pygments_lexer": "ipython3",
   "version": "3.9.7"
  },
  "orig_nbformat": 4
 },
 "nbformat": 4,
 "nbformat_minor": 2
}
